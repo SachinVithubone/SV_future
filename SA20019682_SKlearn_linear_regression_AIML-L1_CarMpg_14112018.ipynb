{
 "cells": [
  {
   "cell_type": "code",
   "execution_count": 238,
   "metadata": {},
   "outputs": [],
   "source": [
    "#Ex 2. Import relevant python libraries and sklearn linear_model  \n",
    "\n",
    "import pandas as pd\n",
    "import numpy as np\n",
    "import sklearn\n",
    "from sklearn import linear_model\n",
    "import matplotlib.pyplot as plt\n",
    "from sklearn.model_selection import train_test_split\n",
    "from sklearn.linear_model import LinearRegression\n",
    "%matplotlib inline"
   ]
  },
  {
   "cell_type": "code",
   "execution_count": 284,
   "metadata": {},
   "outputs": [],
   "source": [
    "#Load the carmpg database\n",
    "df = pd.read_csv('E:/ML/AI ML docs/carMPG.csv')"
   ]
  },
  {
   "cell_type": "code",
   "execution_count": 240,
   "metadata": {},
   "outputs": [
    {
     "data": {
      "text/html": [
       "<div>\n",
       "<style scoped>\n",
       "    .dataframe tbody tr th:only-of-type {\n",
       "        vertical-align: middle;\n",
       "    }\n",
       "\n",
       "    .dataframe tbody tr th {\n",
       "        vertical-align: top;\n",
       "    }\n",
       "\n",
       "    .dataframe thead th {\n",
       "        text-align: right;\n",
       "    }\n",
       "</style>\n",
       "<table border=\"1\" class=\"dataframe\">\n",
       "  <thead>\n",
       "    <tr style=\"text-align: right;\">\n",
       "      <th></th>\n",
       "      <th>MPG</th>\n",
       "      <th>Cylinders</th>\n",
       "      <th>Displacement</th>\n",
       "      <th>Horsepower</th>\n",
       "      <th>Weight</th>\n",
       "      <th>Acceleration</th>\n",
       "      <th>Model_year</th>\n",
       "      <th>Origin</th>\n",
       "      <th>Car_Name</th>\n",
       "    </tr>\n",
       "  </thead>\n",
       "  <tbody>\n",
       "    <tr>\n",
       "      <th>0</th>\n",
       "      <td>8.0</td>\n",
       "      <td>8</td>\n",
       "      <td>307.0</td>\n",
       "      <td>130</td>\n",
       "      <td>3504</td>\n",
       "      <td>12.0</td>\n",
       "      <td>2015</td>\n",
       "      <td>1</td>\n",
       "      <td>chevrolet chevelle malibu</td>\n",
       "    </tr>\n",
       "    <tr>\n",
       "      <th>1</th>\n",
       "      <td>15.0</td>\n",
       "      <td>8</td>\n",
       "      <td>350.0</td>\n",
       "      <td>165</td>\n",
       "      <td>3693</td>\n",
       "      <td>11.5</td>\n",
       "      <td>2015</td>\n",
       "      <td>1</td>\n",
       "      <td>buick skylark 320</td>\n",
       "    </tr>\n",
       "    <tr>\n",
       "      <th>2</th>\n",
       "      <td>18.0</td>\n",
       "      <td>8</td>\n",
       "      <td>318.0</td>\n",
       "      <td>150</td>\n",
       "      <td>3436</td>\n",
       "      <td>11.0</td>\n",
       "      <td>2015</td>\n",
       "      <td>1</td>\n",
       "      <td>plymouth satellite</td>\n",
       "    </tr>\n",
       "    <tr>\n",
       "      <th>3</th>\n",
       "      <td>16.0</td>\n",
       "      <td>8</td>\n",
       "      <td>304.0</td>\n",
       "      <td>150</td>\n",
       "      <td>3433</td>\n",
       "      <td>12.0</td>\n",
       "      <td>2015</td>\n",
       "      <td>1</td>\n",
       "      <td>amc rebel sst</td>\n",
       "    </tr>\n",
       "    <tr>\n",
       "      <th>4</th>\n",
       "      <td>17.0</td>\n",
       "      <td>8</td>\n",
       "      <td>302.0</td>\n",
       "      <td>140</td>\n",
       "      <td>3449</td>\n",
       "      <td>10.5</td>\n",
       "      <td>2015</td>\n",
       "      <td>1</td>\n",
       "      <td>ford torino</td>\n",
       "    </tr>\n",
       "  </tbody>\n",
       "</table>\n",
       "</div>"
      ],
      "text/plain": [
       "    MPG  Cylinders  Displacement Horsepower  Weight  Acceleration  Model_year  \\\n",
       "0   8.0          8         307.0        130    3504          12.0        2015   \n",
       "1  15.0          8         350.0        165    3693          11.5        2015   \n",
       "2  18.0          8         318.0        150    3436          11.0        2015   \n",
       "3  16.0          8         304.0        150    3433          12.0        2015   \n",
       "4  17.0          8         302.0        140    3449          10.5        2015   \n",
       "\n",
       "   Origin                   Car_Name  \n",
       "0       1  chevrolet chevelle malibu  \n",
       "1       1          buick skylark 320  \n",
       "2       1         plymouth satellite  \n",
       "3       1              amc rebel sst  \n",
       "4       1                ford torino  "
      ]
     },
     "execution_count": 240,
     "metadata": {},
     "output_type": "execute_result"
    }
   ],
   "source": [
    "#show the frist five row from carMPG file\n",
    "df.head()"
   ]
  },
  {
   "cell_type": "code",
   "execution_count": 241,
   "metadata": {},
   "outputs": [
    {
     "data": {
      "text/plain": [
       "MPG             float64\n",
       "Cylinders         int64\n",
       "Displacement    float64\n",
       "Horsepower       object\n",
       "Weight            int64\n",
       "Acceleration    float64\n",
       "Model_year        int64\n",
       "Origin            int64\n",
       "Car_Name         object\n",
       "dtype: object"
      ]
     },
     "execution_count": 241,
     "metadata": {},
     "output_type": "execute_result"
    }
   ],
   "source": [
    "#Display the data type of all columns\n",
    "df.dtypes"
   ]
  },
  {
   "cell_type": "code",
   "execution_count": 242,
   "metadata": {},
   "outputs": [
    {
     "data": {
      "text/html": [
       "<div>\n",
       "<style scoped>\n",
       "    .dataframe tbody tr th:only-of-type {\n",
       "        vertical-align: middle;\n",
       "    }\n",
       "\n",
       "    .dataframe tbody tr th {\n",
       "        vertical-align: top;\n",
       "    }\n",
       "\n",
       "    .dataframe thead th {\n",
       "        text-align: right;\n",
       "    }\n",
       "</style>\n",
       "<table border=\"1\" class=\"dataframe\">\n",
       "  <thead>\n",
       "    <tr style=\"text-align: right;\">\n",
       "      <th></th>\n",
       "      <th>MPG</th>\n",
       "      <th>Cylinders</th>\n",
       "      <th>Displacement</th>\n",
       "      <th>Weight</th>\n",
       "      <th>Acceleration</th>\n",
       "      <th>Model_year</th>\n",
       "      <th>Origin</th>\n",
       "    </tr>\n",
       "  </thead>\n",
       "  <tbody>\n",
       "    <tr>\n",
       "      <th>count</th>\n",
       "      <td>398.000000</td>\n",
       "      <td>398.000000</td>\n",
       "      <td>398.000000</td>\n",
       "      <td>398.000000</td>\n",
       "      <td>398.000000</td>\n",
       "      <td>398.000000</td>\n",
       "      <td>398.000000</td>\n",
       "    </tr>\n",
       "    <tr>\n",
       "      <th>mean</th>\n",
       "      <td>23.489447</td>\n",
       "      <td>5.454774</td>\n",
       "      <td>193.425879</td>\n",
       "      <td>2970.424623</td>\n",
       "      <td>15.568090</td>\n",
       "      <td>2008.989950</td>\n",
       "      <td>1.572864</td>\n",
       "    </tr>\n",
       "    <tr>\n",
       "      <th>std</th>\n",
       "      <td>7.849757</td>\n",
       "      <td>1.701004</td>\n",
       "      <td>104.269838</td>\n",
       "      <td>846.841774</td>\n",
       "      <td>2.757689</td>\n",
       "      <td>3.697627</td>\n",
       "      <td>0.802055</td>\n",
       "    </tr>\n",
       "    <tr>\n",
       "      <th>min</th>\n",
       "      <td>8.000000</td>\n",
       "      <td>3.000000</td>\n",
       "      <td>68.000000</td>\n",
       "      <td>1613.000000</td>\n",
       "      <td>8.000000</td>\n",
       "      <td>2003.000000</td>\n",
       "      <td>1.000000</td>\n",
       "    </tr>\n",
       "    <tr>\n",
       "      <th>25%</th>\n",
       "      <td>17.125000</td>\n",
       "      <td>4.000000</td>\n",
       "      <td>104.250000</td>\n",
       "      <td>2223.750000</td>\n",
       "      <td>13.825000</td>\n",
       "      <td>2006.000000</td>\n",
       "      <td>1.000000</td>\n",
       "    </tr>\n",
       "    <tr>\n",
       "      <th>50%</th>\n",
       "      <td>23.000000</td>\n",
       "      <td>4.000000</td>\n",
       "      <td>148.500000</td>\n",
       "      <td>2803.500000</td>\n",
       "      <td>15.500000</td>\n",
       "      <td>2009.000000</td>\n",
       "      <td>1.000000</td>\n",
       "    </tr>\n",
       "    <tr>\n",
       "      <th>75%</th>\n",
       "      <td>29.000000</td>\n",
       "      <td>8.000000</td>\n",
       "      <td>262.000000</td>\n",
       "      <td>3608.000000</td>\n",
       "      <td>17.175000</td>\n",
       "      <td>2012.000000</td>\n",
       "      <td>2.000000</td>\n",
       "    </tr>\n",
       "    <tr>\n",
       "      <th>max</th>\n",
       "      <td>46.600000</td>\n",
       "      <td>8.000000</td>\n",
       "      <td>455.000000</td>\n",
       "      <td>5140.000000</td>\n",
       "      <td>24.800000</td>\n",
       "      <td>2015.000000</td>\n",
       "      <td>3.000000</td>\n",
       "    </tr>\n",
       "  </tbody>\n",
       "</table>\n",
       "</div>"
      ],
      "text/plain": [
       "              MPG   Cylinders  Displacement       Weight  Acceleration  \\\n",
       "count  398.000000  398.000000    398.000000   398.000000    398.000000   \n",
       "mean    23.489447    5.454774    193.425879  2970.424623     15.568090   \n",
       "std      7.849757    1.701004    104.269838   846.841774      2.757689   \n",
       "min      8.000000    3.000000     68.000000  1613.000000      8.000000   \n",
       "25%     17.125000    4.000000    104.250000  2223.750000     13.825000   \n",
       "50%     23.000000    4.000000    148.500000  2803.500000     15.500000   \n",
       "75%     29.000000    8.000000    262.000000  3608.000000     17.175000   \n",
       "max     46.600000    8.000000    455.000000  5140.000000     24.800000   \n",
       "\n",
       "        Model_year      Origin  \n",
       "count   398.000000  398.000000  \n",
       "mean   2008.989950    1.572864  \n",
       "std       3.697627    0.802055  \n",
       "min    2003.000000    1.000000  \n",
       "25%    2006.000000    1.000000  \n",
       "50%    2009.000000    1.000000  \n",
       "75%    2012.000000    2.000000  \n",
       "max    2015.000000    3.000000  "
      ]
     },
     "execution_count": 242,
     "metadata": {},
     "output_type": "execute_result"
    }
   ],
   "source": [
    "#Describe the basic info from carMPG file, count, mean, std,min etc.\n",
    "df.describe()"
   ]
  },
  {
   "cell_type": "code",
   "execution_count": 285,
   "metadata": {},
   "outputs": [],
   "source": [
    "#Identify target variable and independent variable. \n",
    "df = pd.DataFrame(df, columns=['MPG', 'Acceleration'])"
   ]
  },
  {
   "cell_type": "code",
   "execution_count": 244,
   "metadata": {},
   "outputs": [
    {
     "data": {
      "text/html": [
       "<div>\n",
       "<style scoped>\n",
       "    .dataframe tbody tr th:only-of-type {\n",
       "        vertical-align: middle;\n",
       "    }\n",
       "\n",
       "    .dataframe tbody tr th {\n",
       "        vertical-align: top;\n",
       "    }\n",
       "\n",
       "    .dataframe thead th {\n",
       "        text-align: right;\n",
       "    }\n",
       "</style>\n",
       "<table border=\"1\" class=\"dataframe\">\n",
       "  <thead>\n",
       "    <tr style=\"text-align: right;\">\n",
       "      <th></th>\n",
       "      <th>MPG</th>\n",
       "      <th>Acceleration</th>\n",
       "    </tr>\n",
       "  </thead>\n",
       "  <tbody>\n",
       "    <tr>\n",
       "      <th>0</th>\n",
       "      <td>8.0</td>\n",
       "      <td>12.0</td>\n",
       "    </tr>\n",
       "    <tr>\n",
       "      <th>1</th>\n",
       "      <td>15.0</td>\n",
       "      <td>11.5</td>\n",
       "    </tr>\n",
       "    <tr>\n",
       "      <th>2</th>\n",
       "      <td>18.0</td>\n",
       "      <td>11.0</td>\n",
       "    </tr>\n",
       "    <tr>\n",
       "      <th>3</th>\n",
       "      <td>16.0</td>\n",
       "      <td>12.0</td>\n",
       "    </tr>\n",
       "    <tr>\n",
       "      <th>4</th>\n",
       "      <td>17.0</td>\n",
       "      <td>10.5</td>\n",
       "    </tr>\n",
       "  </tbody>\n",
       "</table>\n",
       "</div>"
      ],
      "text/plain": [
       "    MPG  Acceleration\n",
       "0   8.0          12.0\n",
       "1  15.0          11.5\n",
       "2  18.0          11.0\n",
       "3  16.0          12.0\n",
       "4  17.0          10.5"
      ]
     },
     "execution_count": 244,
     "metadata": {},
     "output_type": "execute_result"
    }
   ],
   "source": [
    "df.head()"
   ]
  },
  {
   "cell_type": "code",
   "execution_count": 271,
   "metadata": {},
   "outputs": [],
   "source": [
    "#Display the in arrary\n",
    "\n",
    "x=np.array(df.drop(['MPG'],1))"
   ]
  },
  {
   "cell_type": "code",
   "execution_count": 272,
   "metadata": {},
   "outputs": [
    {
     "data": {
      "text/plain": [
       "array([[12. ],\n",
       "       [11.5],\n",
       "       [11. ],\n",
       "       [12. ],\n",
       "       [10.5],\n",
       "       [10. ],\n",
       "       [ 9. ],\n",
       "       [ 8.5],\n",
       "       [10. ],\n",
       "       [ 8.5],\n",
       "       [10. ],\n",
       "       [ 8. ],\n",
       "       [ 9.5],\n",
       "       [10. ],\n",
       "       [15. ],\n",
       "       [15.5],\n",
       "       [15.5],\n",
       "       [16. ],\n",
       "       [14.5],\n",
       "       [20.5],\n",
       "       [17.5],\n",
       "       [14.5],\n",
       "       [17.5],\n",
       "       [12.5],\n",
       "       [15. ],\n",
       "       [14. ],\n",
       "       [15. ],\n",
       "       [13.5],\n",
       "       [18.5],\n",
       "       [14.5],\n",
       "       [15.5],\n",
       "       [14. ],\n",
       "       [19. ],\n",
       "       [13. ],\n",
       "       [15.5],\n",
       "       [15.5],\n",
       "       [15.5],\n",
       "       [15.5],\n",
       "       [12. ],\n",
       "       [11.5],\n",
       "       [13.5],\n",
       "       [13. ],\n",
       "       [11.5],\n",
       "       [12. ],\n",
       "       [12. ],\n",
       "       [13.5],\n",
       "       [19. ],\n",
       "       [15. ],\n",
       "       [14.5],\n",
       "       [14. ],\n",
       "       [14. ],\n",
       "       [19.5],\n",
       "       [14.5],\n",
       "       [19. ],\n",
       "       [18. ],\n",
       "       [19. ],\n",
       "       [20.5],\n",
       "       [15.5],\n",
       "       [17. ],\n",
       "       [23.5],\n",
       "       [19.5],\n",
       "       [16.5],\n",
       "       [12. ],\n",
       "       [12. ],\n",
       "       [13.5],\n",
       "       [13. ],\n",
       "       [11.5],\n",
       "       [11. ],\n",
       "       [13.5],\n",
       "       [13.5],\n",
       "       [12.5],\n",
       "       [13.5],\n",
       "       [12.5],\n",
       "       [14. ],\n",
       "       [16. ],\n",
       "       [14. ],\n",
       "       [14.5],\n",
       "       [18. ],\n",
       "       [19.5],\n",
       "       [18. ],\n",
       "       [16. ],\n",
       "       [17. ],\n",
       "       [14.5],\n",
       "       [15. ],\n",
       "       [16.5],\n",
       "       [13. ],\n",
       "       [11.5],\n",
       "       [13. ],\n",
       "       [14.5],\n",
       "       [12.5],\n",
       "       [11.5],\n",
       "       [12. ],\n",
       "       [13. ],\n",
       "       [14.5],\n",
       "       [11. ],\n",
       "       [11. ],\n",
       "       [11. ],\n",
       "       [16.5],\n",
       "       [18. ],\n",
       "       [16. ],\n",
       "       [16.5],\n",
       "       [16. ],\n",
       "       [21. ],\n",
       "       [14. ],\n",
       "       [12.5],\n",
       "       [13. ],\n",
       "       [12.5],\n",
       "       [15. ],\n",
       "       [19. ],\n",
       "       [19.5],\n",
       "       [16.5],\n",
       "       [13.5],\n",
       "       [18.5],\n",
       "       [14. ],\n",
       "       [15.5],\n",
       "       [13. ],\n",
       "       [ 9.5],\n",
       "       [19.5],\n",
       "       [15.5],\n",
       "       [14. ],\n",
       "       [15.5],\n",
       "       [11. ],\n",
       "       [14. ],\n",
       "       [13.5],\n",
       "       [11. ],\n",
       "       [16.5],\n",
       "       [17. ],\n",
       "       [16. ],\n",
       "       [17. ],\n",
       "       [19. ],\n",
       "       [16.5],\n",
       "       [21. ],\n",
       "       [17. ],\n",
       "       [17. ],\n",
       "       [18. ],\n",
       "       [16.5],\n",
       "       [14. ],\n",
       "       [14.5],\n",
       "       [13.5],\n",
       "       [16. ],\n",
       "       [15.5],\n",
       "       [16.5],\n",
       "       [15.5],\n",
       "       [14.5],\n",
       "       [16.5],\n",
       "       [19. ],\n",
       "       [14.5],\n",
       "       [15.5],\n",
       "       [14. ],\n",
       "       [15. ],\n",
       "       [15.5],\n",
       "       [16. ],\n",
       "       [16. ],\n",
       "       [16. ],\n",
       "       [21. ],\n",
       "       [19.5],\n",
       "       [11.5],\n",
       "       [14. ],\n",
       "       [14.5],\n",
       "       [13.5],\n",
       "       [21. ],\n",
       "       [18.5],\n",
       "       [19. ],\n",
       "       [19. ],\n",
       "       [15. ],\n",
       "       [13.5],\n",
       "       [12. ],\n",
       "       [16. ],\n",
       "       [17. ],\n",
       "       [16. ],\n",
       "       [18.5],\n",
       "       [13.5],\n",
       "       [16.5],\n",
       "       [17. ],\n",
       "       [14.5],\n",
       "       [14. ],\n",
       "       [17. ],\n",
       "       [15. ],\n",
       "       [17. ],\n",
       "       [14.5],\n",
       "       [13.5],\n",
       "       [17.5],\n",
       "       [15.5],\n",
       "       [16.9],\n",
       "       [14.9],\n",
       "       [17.7],\n",
       "       [15.3],\n",
       "       [13. ],\n",
       "       [13. ],\n",
       "       [13.9],\n",
       "       [12.8],\n",
       "       [15.4],\n",
       "       [14.5],\n",
       "       [17.6],\n",
       "       [17.6],\n",
       "       [22.2],\n",
       "       [22.1],\n",
       "       [14.2],\n",
       "       [17.4],\n",
       "       [17.7],\n",
       "       [21. ],\n",
       "       [16.2],\n",
       "       [17.8],\n",
       "       [12.2],\n",
       "       [17. ],\n",
       "       [16.4],\n",
       "       [13.6],\n",
       "       [15.7],\n",
       "       [13.2],\n",
       "       [21.9],\n",
       "       [15.5],\n",
       "       [16.7],\n",
       "       [12.1],\n",
       "       [12. ],\n",
       "       [15. ],\n",
       "       [14. ],\n",
       "       [18.5],\n",
       "       [14.8],\n",
       "       [18.6],\n",
       "       [15.5],\n",
       "       [16.8],\n",
       "       [12.5],\n",
       "       [19. ],\n",
       "       [13.7],\n",
       "       [14.9],\n",
       "       [16.4],\n",
       "       [16.9],\n",
       "       [17.7],\n",
       "       [19. ],\n",
       "       [11.1],\n",
       "       [11.4],\n",
       "       [12.2],\n",
       "       [14.5],\n",
       "       [14.5],\n",
       "       [16. ],\n",
       "       [18.2],\n",
       "       [15.8],\n",
       "       [17. ],\n",
       "       [15.9],\n",
       "       [16.4],\n",
       "       [14.1],\n",
       "       [14.5],\n",
       "       [12.8],\n",
       "       [13.5],\n",
       "       [21.5],\n",
       "       [14.4],\n",
       "       [19.4],\n",
       "       [18.6],\n",
       "       [16.4],\n",
       "       [15.5],\n",
       "       [13.2],\n",
       "       [12.8],\n",
       "       [19.2],\n",
       "       [18.2],\n",
       "       [15.8],\n",
       "       [15.4],\n",
       "       [17.2],\n",
       "       [17.2],\n",
       "       [15.8],\n",
       "       [16.7],\n",
       "       [18.7],\n",
       "       [15.1],\n",
       "       [13.2],\n",
       "       [13.4],\n",
       "       [11.2],\n",
       "       [13.7],\n",
       "       [16.5],\n",
       "       [14.2],\n",
       "       [14.7],\n",
       "       [14.5],\n",
       "       [14.8],\n",
       "       [16.7],\n",
       "       [17.6],\n",
       "       [14.9],\n",
       "       [15.9],\n",
       "       [13.6],\n",
       "       [15.7],\n",
       "       [15.8],\n",
       "       [14.9],\n",
       "       [16.6],\n",
       "       [15.4],\n",
       "       [18.2],\n",
       "       [17.3],\n",
       "       [18.2],\n",
       "       [16.6],\n",
       "       [15.4],\n",
       "       [13.4],\n",
       "       [13.2],\n",
       "       [15.2],\n",
       "       [14.9],\n",
       "       [14.3],\n",
       "       [15. ],\n",
       "       [13. ],\n",
       "       [14. ],\n",
       "       [15.2],\n",
       "       [14.4],\n",
       "       [15. ],\n",
       "       [20.1],\n",
       "       [17.4],\n",
       "       [24.8],\n",
       "       [22.2],\n",
       "       [13.2],\n",
       "       [14.9],\n",
       "       [19.2],\n",
       "       [14.7],\n",
       "       [16. ],\n",
       "       [11.3],\n",
       "       [12.9],\n",
       "       [13.2],\n",
       "       [14.7],\n",
       "       [18.8],\n",
       "       [15.5],\n",
       "       [16.4],\n",
       "       [16.5],\n",
       "       [18.1],\n",
       "       [20.1],\n",
       "       [18.7],\n",
       "       [15.8],\n",
       "       [15.5],\n",
       "       [17.5],\n",
       "       [15. ],\n",
       "       [15.2],\n",
       "       [17.9],\n",
       "       [14.4],\n",
       "       [19.2],\n",
       "       [21.7],\n",
       "       [23.7],\n",
       "       [19.9],\n",
       "       [21.8],\n",
       "       [13.8],\n",
       "       [17.3],\n",
       "       [18. ],\n",
       "       [15.3],\n",
       "       [11.4],\n",
       "       [12.5],\n",
       "       [15.1],\n",
       "       [14.3],\n",
       "       [17. ],\n",
       "       [15.7],\n",
       "       [16.4],\n",
       "       [14.4],\n",
       "       [12.6],\n",
       "       [12.9],\n",
       "       [16.9],\n",
       "       [16.4],\n",
       "       [16.1],\n",
       "       [17.8],\n",
       "       [19.4],\n",
       "       [17.3],\n",
       "       [16. ],\n",
       "       [14.9],\n",
       "       [16.2],\n",
       "       [20.7],\n",
       "       [14.2],\n",
       "       [15.8],\n",
       "       [14.4],\n",
       "       [16.8],\n",
       "       [14.8],\n",
       "       [18.3],\n",
       "       [20.4],\n",
       "       [19.6],\n",
       "       [12.6],\n",
       "       [13.8],\n",
       "       [15.8],\n",
       "       [19. ],\n",
       "       [17.1],\n",
       "       [16.6],\n",
       "       [19.6],\n",
       "       [18.6],\n",
       "       [18. ],\n",
       "       [16.2],\n",
       "       [16. ],\n",
       "       [18. ],\n",
       "       [16.4],\n",
       "       [20.5],\n",
       "       [15.3],\n",
       "       [18.2],\n",
       "       [17.6],\n",
       "       [14.7],\n",
       "       [17.3],\n",
       "       [14.5],\n",
       "       [14.5],\n",
       "       [16.9],\n",
       "       [15. ],\n",
       "       [15.7],\n",
       "       [16.2],\n",
       "       [16.4],\n",
       "       [17. ],\n",
       "       [14.5],\n",
       "       [14.7],\n",
       "       [13.9],\n",
       "       [13. ],\n",
       "       [17.3],\n",
       "       [15.6],\n",
       "       [24.6],\n",
       "       [11.6],\n",
       "       [18.6],\n",
       "       [19.4]])"
      ]
     },
     "execution_count": 272,
     "metadata": {},
     "output_type": "execute_result"
    }
   ],
   "source": [
    "x"
   ]
  },
  {
   "cell_type": "code",
   "execution_count": 266,
   "metadata": {},
   "outputs": [],
   "source": [
    "#Display the MPG in arrary \n",
    "y=np.array(df['MPG'])"
   ]
  },
  {
   "cell_type": "code",
   "execution_count": 249,
   "metadata": {},
   "outputs": [
    {
     "data": {
      "text/plain": [
       "array([ 8. , 15. , 18. , 16. , 17. , 15. , 14. , 14. , 14. , 15. , 15. ,\n",
       "       14. , 15. , 14. , 24. , 22. , 18. , 21. , 27. , 26. , 25. , 24. ,\n",
       "       25. , 26. , 21. , 10. , 10. , 11. ,  9. , 27. , 28. , 25. , 25. ,\n",
       "       19. , 16. , 17. , 19. , 18. , 14. , 14. , 14. , 14. , 12. , 13. ,\n",
       "       13. , 18. , 22. , 19. , 18. , 23. , 28. , 30. , 30. , 31. , 35. ,\n",
       "       27. , 26. , 24. , 25. , 23. , 20. , 21. , 13. , 14. , 15. , 14. ,\n",
       "       17. , 11. , 13. , 12. , 13. , 19. , 15. , 13. , 13. , 14. , 18. ,\n",
       "       22. , 21. , 26. , 22. , 28. , 23. , 28. , 27. , 13. , 14. , 13. ,\n",
       "       14. , 15. , 12. , 13. , 13. , 14. , 13. , 12. , 13. , 18. , 16. ,\n",
       "       18. , 18. , 23. , 26. , 11. , 12. , 13. , 12. , 18. , 20. , 21. ,\n",
       "       22. , 18. , 19. , 21. , 26. , 15. , 16. , 29. , 24. , 20. , 19. ,\n",
       "       15. , 24. , 20. , 11. , 20. , 21. , 19. , 15. , 31. , 26. , 32. ,\n",
       "       25. , 16. , 16. , 18. , 16. , 13. , 14. , 14. , 14. , 29. , 26. ,\n",
       "       26. , 31. , 32. , 28. , 24. , 26. , 24. , 26. , 31. , 19. , 18. ,\n",
       "       15. , 15. , 16. , 15. , 16. , 14. , 17. , 16. , 15. , 18. , 21. ,\n",
       "       20. , 13. , 29. , 23. , 20. , 23. , 24. , 25. , 24. , 18. , 29. ,\n",
       "       19. , 23. , 23. , 22. , 25. , 33. , 28. , 25. , 25. , 26. , 27. ,\n",
       "       17.5, 16. , 15.5, 14.5, 22. , 22. , 24. , 22.5, 29. , 24.5, 29. ,\n",
       "       33. , 20. , 18. , 18.5, 17.5, 29.5, 32. , 28. , 26.5, 20. , 13. ,\n",
       "       19. , 19. , 16.5, 16.5, 13. , 13. , 13. , 31.5, 30. , 36. , 25.5,\n",
       "       33.5, 17.5, 17. , 15.5, 15. , 17.5, 20.5, 19. , 18.5, 16. , 15.5,\n",
       "       15.5, 16. , 29. , 24.5, 26. , 25.5, 30.5, 33.5, 30. , 30.5, 22. ,\n",
       "       21.5, 21.5, 43.1, 36.1, 32.8, 39.4, 36.1, 19.9, 19.4, 20.2, 19.2,\n",
       "       20.5, 20.2, 25.1, 20.5, 19.4, 20.6, 20.8, 18.6, 18.1, 19.2, 17.7,\n",
       "       18.1, 17.5, 30. , 27.5, 27.2, 30.9, 21.1, 23.2, 23.8, 23.9, 20.3,\n",
       "       17. , 21.6, 16.2, 31.5, 29.5, 21.5, 19.8, 22.3, 20.2, 20.6, 17. ,\n",
       "       17.6, 16.5, 18.2, 16.9, 15.5, 19.2, 18.5, 31.9, 34.1, 35.7, 27.4,\n",
       "       25.4, 23. , 27.2, 23.9, 34.2, 34.5, 31.8, 37.3, 28.4, 28.8, 26.8,\n",
       "       33.5, 41.5, 38.1, 32.1, 37.2, 28. , 26.4, 24.3, 19.1, 34.3, 29.8,\n",
       "       31.3, 37. , 32.2, 46.6, 27.9, 40.8, 44.3, 43.4, 36.4, 30. , 44.6,\n",
       "       40.9, 33.8, 29.8, 32.7, 23.7, 35. , 23.6, 32.4, 27.2, 26.6, 25.8,\n",
       "       23.5, 30. , 39.1, 39. , 35.1, 32.3, 37. , 37.7, 34.1, 34.7, 34.4,\n",
       "       29.9, 33. , 34.5, 33.7, 32.4, 32.9, 31.6, 28.1, 30.7, 25.4, 24.2,\n",
       "       22.4, 26.6, 20.2, 17.6, 28. , 27. , 34. , 31. , 29. , 27. , 24. ,\n",
       "       23. , 36. , 37. , 31. , 38. , 36. , 36. , 36. , 34. , 38. , 32. ,\n",
       "       38. , 25. , 38. , 26. , 22. , 32. , 36. , 27. , 27. , 44. , 32. ,\n",
       "       28. , 31. ])"
      ]
     },
     "execution_count": 249,
     "metadata": {},
     "output_type": "execute_result"
    }
   ],
   "source": [
    "y"
   ]
  },
  {
   "cell_type": "code",
   "execution_count": 251,
   "metadata": {},
   "outputs": [],
   "source": [
    "#Split the file into train [80%] and test [20%] data \n",
    "\n",
    "from sklearn.cross_validation import train_test_split\n",
    "x_train, x_test, y_train, y_test=train_test_split(x,y, test_size=0.2)"
   ]
  },
  {
   "cell_type": "code",
   "execution_count": 268,
   "metadata": {},
   "outputs": [
    {
     "name": "stdout",
     "output_type": "stream",
     "text": [
      "(318, 1)\n"
     ]
    }
   ],
   "source": [
    "print(x_train.shape)"
   ]
  },
  {
   "cell_type": "code",
   "execution_count": 269,
   "metadata": {},
   "outputs": [
    {
     "name": "stdout",
     "output_type": "stream",
     "text": [
      "(318,)\n"
     ]
    }
   ],
   "source": [
    "print(y_train.shape)"
   ]
  },
  {
   "cell_type": "code",
   "execution_count": 254,
   "metadata": {},
   "outputs": [
    {
     "data": {
      "text/plain": [
       "array([33.5, 19. , 18. , 26. , 27.5, 13. , 14. , 14. , 32.8, 14. , 17. ,\n",
       "       24. , 16.5, 37. , 22. , 18.5, 11. , 16. , 31.6, 14. , 30.5, 13. ,\n",
       "       26. , 17. , 26.4, 26. , 21. , 21. , 29. , 39.1, 20.3, 25. , 20.2,\n",
       "       23.8, 34. , 20.5, 26. , 28. , 14. , 16. , 18.5, 23. , 37.2, 26.6,\n",
       "       24. , 26. , 26. , 17.5, 28.1, 31. , 19. , 14. , 13. , 14. , 22. ,\n",
       "       25.5, 23.5, 21. , 34.3, 20. , 38.1, 22. , 34. , 35. , 12. , 15. ,\n",
       "       34.1, 19. , 31. , 19. , 30. , 32.1, 31. , 14. , 31.9, 37.7, 18.1,\n",
       "       15. , 13. , 14.5])"
      ]
     },
     "execution_count": 254,
     "metadata": {},
     "output_type": "execute_result"
    }
   ],
   "source": [
    "y_test"
   ]
  },
  {
   "cell_type": "code",
   "execution_count": 255,
   "metadata": {},
   "outputs": [],
   "source": [
    "#x_test"
   ]
  },
  {
   "cell_type": "code",
   "execution_count": 256,
   "metadata": {},
   "outputs": [],
   "source": [
    "#Create linear regression object\n",
    "\n",
    "regmodel=linear_model.LinearRegression()"
   ]
  },
  {
   "cell_type": "code",
   "execution_count": 257,
   "metadata": {},
   "outputs": [
    {
     "data": {
      "text/plain": [
       "LinearRegression(copy_X=True, fit_intercept=True, n_jobs=1, normalize=False)"
      ]
     },
     "execution_count": 257,
     "metadata": {},
     "output_type": "execute_result"
    }
   ],
   "source": [
    "#Fit the x_train and y_train in model (#regmodel.fit(x,y))\n",
    "#Train the model using the training sets  \n",
    "regmodel.fit(x_train, y_train)"
   ]
  },
  {
   "cell_type": "code",
   "execution_count": 275,
   "metadata": {},
   "outputs": [
    {
     "data": {
      "text/plain": [
       "array([41.14490782])"
      ]
     },
     "execution_count": 275,
     "metadata": {},
     "output_type": "execute_result"
    }
   ],
   "source": [
    "regmodel.predict(31.0)"
   ]
  },
  {
   "cell_type": "code",
   "execution_count": 258,
   "metadata": {},
   "outputs": [
    {
     "data": {
      "text/plain": [
       "array([1.14303423])"
      ]
     },
     "execution_count": 258,
     "metadata": {},
     "output_type": "execute_result"
    }
   ],
   "source": [
    "#Coefficients\n",
    "#Ex 6. Display the coefficients coef, intercept and residues\n",
    "regmodel.coef_"
   ]
  },
  {
   "cell_type": "code",
   "execution_count": 259,
   "metadata": {},
   "outputs": [],
   "source": [
    "#Fit the x_train and y_train in model (#regmodel.fit(x,y))\n",
    "#regmodel.fit(x_train, y_train)"
   ]
  },
  {
   "cell_type": "code",
   "execution_count": 260,
   "metadata": {},
   "outputs": [
    {
     "data": {
      "text/plain": [
       "5.710846558969429"
      ]
     },
     "execution_count": 260,
     "metadata": {},
     "output_type": "execute_result"
    }
   ],
   "source": [
    "#Intercept\n",
    "#Ex 6. Display the coefficients coef, intercept and residues\n",
    "regmodel.intercept_"
   ]
  },
  {
   "cell_type": "code",
   "execution_count": 261,
   "metadata": {},
   "outputs": [],
   "source": [
    "#Ex 6. Display the coefficients coef, intercept and residues\n",
    "# Accuracy check for carMPG\n",
    "#Coefficients * acceleration + intercept\n",
    "\n",
    "CarMPG = 1.20302282 * 19.0 + 4.975072087084243"
   ]
  },
  {
   "cell_type": "code",
   "execution_count": 262,
   "metadata": {},
   "outputs": [
    {
     "data": {
      "text/plain": [
       "27.83250566708424"
      ]
     },
     "execution_count": 262,
     "metadata": {},
     "output_type": "execute_result"
    }
   ],
   "source": [
    "CarMPG"
   ]
  },
  {
   "cell_type": "code",
   "execution_count": 263,
   "metadata": {},
   "outputs": [
    {
     "data": {
      "text/plain": [
       "0.24948983176053008"
      ]
     },
     "execution_count": 263,
     "metadata": {},
     "output_type": "execute_result"
    }
   ],
   "source": [
    "#Ex 7. Predict using test data  \n",
    "regmodel.score(x_test, y_test)"
   ]
  },
  {
   "cell_type": "code",
   "execution_count": 287,
   "metadata": {},
   "outputs": [],
   "source": [
    "#regmodel_y_pred = regmodel.predict(x_test)"
   ]
  },
  {
   "cell_type": "code",
   "execution_count": 291,
   "metadata": {},
   "outputs": [],
   "source": [
    "#regmodel_y_pred"
   ]
  },
  {
   "cell_type": "code",
   "execution_count": 312,
   "metadata": {},
   "outputs": [],
   "source": [
    "#Display using scatter plot the data points and the best fit line \n",
    "#plt.scatter(x_test, y_test, color='green')\n",
    "#plt.plot(x_test,regmodel_y_pred,color = 'red', linwidth=8)\n",
    "plt.show()"
   ]
  },
  {
   "cell_type": "code",
   "execution_count": 308,
   "metadata": {},
   "outputs": [],
   "source": [
    "y_pred = regmodel.predict(x_test)"
   ]
  },
  {
   "cell_type": "code",
   "execution_count": 309,
   "metadata": {},
   "outputs": [
    {
     "data": {
      "text/plain": [
       "array([20.79889845, 20.57029161, 22.28484296, 23.42787719, 21.94193269,\n",
       "       19.42725737, 20.57029161, 21.14180872, 27.88571071, 14.85512043,\n",
       "       29.71456548, 22.85636007, 20.79889845, 26.51406962, 23.99939431,\n",
       "       20.57029161, 18.28422314, 22.28484296, 26.62837305, 21.14180872,\n",
       "       21.82762926, 19.42725737, 19.99877449, 23.42787719, 26.3997662 ,\n",
       "       23.42787719, 25.14242854, 22.85636007, 23.99939431, 25.02812512,\n",
       "       23.88509089, 25.02812512, 23.77078746, 25.82824908, 25.02812512,\n",
       "       25.37103539, 24.57091143, 26.97128332, 22.28484296, 18.39852656,\n",
       "       24.22800116, 25.59964224, 24.456608  , 27.42849701, 25.82824908,\n",
       "       29.14304836, 22.28484296, 26.05685593, 29.02874494, 24.22800116,\n",
       "       30.74329629, 23.99939431, 20.57029161, 22.28484296, 27.42849701,\n",
       "       23.77078746, 20.11307791, 23.99939431, 23.77078746, 21.71332584,\n",
       "       27.19989017, 22.28484296, 26.28546278, 22.9706635 , 19.99877449,\n",
       "       15.42663755, 23.99939431, 23.99939431, 25.82824908, 23.42787719,\n",
       "       24.57091143, 23.42787719, 24.57091143, 20.57029161, 21.71332584,\n",
       "       25.48533881, 18.51282998, 18.28422314, 19.42725737, 20.34168476])"
      ]
     },
     "execution_count": 309,
     "metadata": {},
     "output_type": "execute_result"
    }
   ],
   "source": [
    "y_pred"
   ]
  },
  {
   "cell_type": "code",
   "execution_count": 306,
   "metadata": {},
   "outputs": [],
   "source": [
    "from sklearn.metrics import mean_squared_error, r2_score\n",
    "\n",
    "#print('Coefficients: \\n', regmodel.coef_)\n",
    "# The mean squared error\n",
    "#print(\"Mean squared error: %.2f\"\n",
    " #     % mean_squared_error(y_test,y_pred))\n",
    "# Explained variance score: 1 is perfect prediction\n",
    "#print('Variance score: %.2f' % r2_score(y_test, y_pred))"
   ]
  },
  {
   "cell_type": "code",
   "execution_count": 313,
   "metadata": {},
   "outputs": [
    {
     "data": {
      "image/png": "[encoded data removed]",
      "text/plain": [
       "<matplotlib.figure.Figure at 0x21481e85780>"
      ]
     },
     "metadata": {},
     "output_type": "display_data"
    }
   ],
   "source": [
    "#Display using scatter plot the data points and the best fit line \n",
    "plt.scatter(x_test, y_test,  color='black')\n",
    "plt.plot(x_test, y_pred, color='blue', linewidth=3)\n",
    "plt.show()"
   ]
  },
  {
   "cell_type": "code",
   "execution_count": null,
   "metadata": {},
   "outputs": [],
   "source": [
    "\n"
   ]
  },
  {
   "cell_type": "code",
   "execution_count": 302,
   "metadata": {},
   "outputs": [],
   "source": []
  },
  {
   "cell_type": "code",
   "execution_count": null,
   "metadata": {},
   "outputs": [],
   "source": []
  }
 ],
 "metadata": {
  "kernelspec": {
   "display_name": "Python 3",
   "language": "python",
   "name": "python3"
  },
  "language_info": {
   "codemirror_mode": {
    "name": "ipython",
    "version": 3
   },
   "file_extension": ".py",
   "mimetype": "text/x-python",
   "name": "python",
   "nbconvert_exporter": "python",
   "pygments_lexer": "ipython3",
   "version": "3.6.4"
  }
 },
 "nbformat": 4,
 "nbformat_minor": 2
}
