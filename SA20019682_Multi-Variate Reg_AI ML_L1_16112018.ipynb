{
 "cells": [
  {
   "cell_type": "code",
   "execution_count": 2,
   "metadata": {},
   "outputs": [],
   "source": [
    "#Multi-variate Regression \n",
    "import pandas as pd\n",
    "import numpy as np\n",
    "import sklearn\n",
    "from sklearn import linear_model\n",
    "import matplotlib.pyplot as plt\n",
    "from sklearn.model_selection import train_test_split\n",
    "from sklearn.linear_model import LinearRegression\n",
    "%matplotlib inline"
   ]
  },
  {
   "cell_type": "code",
   "execution_count": 3,
   "metadata": {},
   "outputs": [],
   "source": [
    "#Load the carmpg database\n",
    "df = pd.read_csv('E:/ML/AI ML docs/carMPG.csv')"
   ]
  },
  {
   "cell_type": "code",
   "execution_count": 4,
   "metadata": {},
   "outputs": [
    {
     "data": {
      "text/html": [
       "<div>\n",
       "<style scoped>\n",
       "    .dataframe tbody tr th:only-of-type {\n",
       "        vertical-align: middle;\n",
       "    }\n",
       "\n",
       "    .dataframe tbody tr th {\n",
       "        vertical-align: top;\n",
       "    }\n",
       "\n",
       "    .dataframe thead th {\n",
       "        text-align: right;\n",
       "    }\n",
       "</style>\n",
       "<table border=\"1\" class=\"dataframe\">\n",
       "  <thead>\n",
       "    <tr style=\"text-align: right;\">\n",
       "      <th></th>\n",
       "      <th>MPG</th>\n",
       "      <th>Cylinders</th>\n",
       "      <th>Displacement</th>\n",
       "      <th>Horsepower</th>\n",
       "      <th>Weight</th>\n",
       "      <th>Acceleration</th>\n",
       "      <th>Model_year</th>\n",
       "      <th>Origin</th>\n",
       "      <th>Car_Name</th>\n",
       "    </tr>\n",
       "  </thead>\n",
       "  <tbody>\n",
       "    <tr>\n",
       "      <th>0</th>\n",
       "      <td>8.0</td>\n",
       "      <td>8</td>\n",
       "      <td>307.0</td>\n",
       "      <td>130</td>\n",
       "      <td>3504</td>\n",
       "      <td>12.0</td>\n",
       "      <td>2015</td>\n",
       "      <td>1</td>\n",
       "      <td>chevrolet chevelle malibu</td>\n",
       "    </tr>\n",
       "    <tr>\n",
       "      <th>1</th>\n",
       "      <td>15.0</td>\n",
       "      <td>8</td>\n",
       "      <td>350.0</td>\n",
       "      <td>165</td>\n",
       "      <td>3693</td>\n",
       "      <td>11.5</td>\n",
       "      <td>2015</td>\n",
       "      <td>1</td>\n",
       "      <td>buick skylark 320</td>\n",
       "    </tr>\n",
       "    <tr>\n",
       "      <th>2</th>\n",
       "      <td>18.0</td>\n",
       "      <td>8</td>\n",
       "      <td>318.0</td>\n",
       "      <td>150</td>\n",
       "      <td>3436</td>\n",
       "      <td>11.0</td>\n",
       "      <td>2015</td>\n",
       "      <td>1</td>\n",
       "      <td>plymouth satellite</td>\n",
       "    </tr>\n",
       "    <tr>\n",
       "      <th>3</th>\n",
       "      <td>16.0</td>\n",
       "      <td>8</td>\n",
       "      <td>304.0</td>\n",
       "      <td>150</td>\n",
       "      <td>3433</td>\n",
       "      <td>12.0</td>\n",
       "      <td>2015</td>\n",
       "      <td>1</td>\n",
       "      <td>amc rebel sst</td>\n",
       "    </tr>\n",
       "    <tr>\n",
       "      <th>4</th>\n",
       "      <td>17.0</td>\n",
       "      <td>8</td>\n",
       "      <td>302.0</td>\n",
       "      <td>140</td>\n",
       "      <td>3449</td>\n",
       "      <td>10.5</td>\n",
       "      <td>2015</td>\n",
       "      <td>1</td>\n",
       "      <td>ford torino</td>\n",
       "    </tr>\n",
       "  </tbody>\n",
       "</table>\n",
       "</div>"
      ],
      "text/plain": [
       "    MPG  Cylinders  Displacement Horsepower  Weight  Acceleration  Model_year  \\\n",
       "0   8.0          8         307.0        130    3504          12.0        2015   \n",
       "1  15.0          8         350.0        165    3693          11.5        2015   \n",
       "2  18.0          8         318.0        150    3436          11.0        2015   \n",
       "3  16.0          8         304.0        150    3433          12.0        2015   \n",
       "4  17.0          8         302.0        140    3449          10.5        2015   \n",
       "\n",
       "   Origin                   Car_Name  \n",
       "0       1  chevrolet chevelle malibu  \n",
       "1       1          buick skylark 320  \n",
       "2       1         plymouth satellite  \n",
       "3       1              amc rebel sst  \n",
       "4       1                ford torino  "
      ]
     },
     "execution_count": 4,
     "metadata": {},
     "output_type": "execute_result"
    }
   ],
   "source": [
    "df.head()"
   ]
  },
  {
   "cell_type": "code",
   "execution_count": 5,
   "metadata": {},
   "outputs": [
    {
     "data": {
      "text/html": [
       "<div>\n",
       "<style scoped>\n",
       "    .dataframe tbody tr th:only-of-type {\n",
       "        vertical-align: middle;\n",
       "    }\n",
       "\n",
       "    .dataframe tbody tr th {\n",
       "        vertical-align: top;\n",
       "    }\n",
       "\n",
       "    .dataframe thead th {\n",
       "        text-align: right;\n",
       "    }\n",
       "</style>\n",
       "<table border=\"1\" class=\"dataframe\">\n",
       "  <thead>\n",
       "    <tr style=\"text-align: right;\">\n",
       "      <th></th>\n",
       "      <th>MPG</th>\n",
       "      <th>Cylinders</th>\n",
       "      <th>Displacement</th>\n",
       "      <th>Weight</th>\n",
       "      <th>Acceleration</th>\n",
       "      <th>Model_year</th>\n",
       "      <th>Origin</th>\n",
       "    </tr>\n",
       "  </thead>\n",
       "  <tbody>\n",
       "    <tr>\n",
       "      <th>count</th>\n",
       "      <td>398.000000</td>\n",
       "      <td>398.000000</td>\n",
       "      <td>398.000000</td>\n",
       "      <td>398.000000</td>\n",
       "      <td>398.000000</td>\n",
       "      <td>398.000000</td>\n",
       "      <td>398.000000</td>\n",
       "    </tr>\n",
       "    <tr>\n",
       "      <th>mean</th>\n",
       "      <td>23.489447</td>\n",
       "      <td>5.454774</td>\n",
       "      <td>193.425879</td>\n",
       "      <td>2970.424623</td>\n",
       "      <td>15.568090</td>\n",
       "      <td>2008.989950</td>\n",
       "      <td>1.572864</td>\n",
       "    </tr>\n",
       "    <tr>\n",
       "      <th>std</th>\n",
       "      <td>7.849757</td>\n",
       "      <td>1.701004</td>\n",
       "      <td>104.269838</td>\n",
       "      <td>846.841774</td>\n",
       "      <td>2.757689</td>\n",
       "      <td>3.697627</td>\n",
       "      <td>0.802055</td>\n",
       "    </tr>\n",
       "    <tr>\n",
       "      <th>min</th>\n",
       "      <td>8.000000</td>\n",
       "      <td>3.000000</td>\n",
       "      <td>68.000000</td>\n",
       "      <td>1613.000000</td>\n",
       "      <td>8.000000</td>\n",
       "      <td>2003.000000</td>\n",
       "      <td>1.000000</td>\n",
       "    </tr>\n",
       "    <tr>\n",
       "      <th>25%</th>\n",
       "      <td>17.125000</td>\n",
       "      <td>4.000000</td>\n",
       "      <td>104.250000</td>\n",
       "      <td>2223.750000</td>\n",
       "      <td>13.825000</td>\n",
       "      <td>2006.000000</td>\n",
       "      <td>1.000000</td>\n",
       "    </tr>\n",
       "    <tr>\n",
       "      <th>50%</th>\n",
       "      <td>23.000000</td>\n",
       "      <td>4.000000</td>\n",
       "      <td>148.500000</td>\n",
       "      <td>2803.500000</td>\n",
       "      <td>15.500000</td>\n",
       "      <td>2009.000000</td>\n",
       "      <td>1.000000</td>\n",
       "    </tr>\n",
       "    <tr>\n",
       "      <th>75%</th>\n",
       "      <td>29.000000</td>\n",
       "      <td>8.000000</td>\n",
       "      <td>262.000000</td>\n",
       "      <td>3608.000000</td>\n",
       "      <td>17.175000</td>\n",
       "      <td>2012.000000</td>\n",
       "      <td>2.000000</td>\n",
       "    </tr>\n",
       "    <tr>\n",
       "      <th>max</th>\n",
       "      <td>46.600000</td>\n",
       "      <td>8.000000</td>\n",
       "      <td>455.000000</td>\n",
       "      <td>5140.000000</td>\n",
       "      <td>24.800000</td>\n",
       "      <td>2015.000000</td>\n",
       "      <td>3.000000</td>\n",
       "    </tr>\n",
       "  </tbody>\n",
       "</table>\n",
       "</div>"
      ],
      "text/plain": [
       "              MPG   Cylinders  Displacement       Weight  Acceleration  \\\n",
       "count  398.000000  398.000000    398.000000   398.000000    398.000000   \n",
       "mean    23.489447    5.454774    193.425879  2970.424623     15.568090   \n",
       "std      7.849757    1.701004    104.269838   846.841774      2.757689   \n",
       "min      8.000000    3.000000     68.000000  1613.000000      8.000000   \n",
       "25%     17.125000    4.000000    104.250000  2223.750000     13.825000   \n",
       "50%     23.000000    4.000000    148.500000  2803.500000     15.500000   \n",
       "75%     29.000000    8.000000    262.000000  3608.000000     17.175000   \n",
       "max     46.600000    8.000000    455.000000  5140.000000     24.800000   \n",
       "\n",
       "        Model_year      Origin  \n",
       "count   398.000000  398.000000  \n",
       "mean   2008.989950    1.572864  \n",
       "std       3.697627    0.802055  \n",
       "min    2003.000000    1.000000  \n",
       "25%    2006.000000    1.000000  \n",
       "50%    2009.000000    1.000000  \n",
       "75%    2012.000000    2.000000  \n",
       "max    2015.000000    3.000000  "
      ]
     },
     "execution_count": 5,
     "metadata": {},
     "output_type": "execute_result"
    }
   ],
   "source": [
    "df.describe()"
   ]
  },
  {
   "cell_type": "code",
   "execution_count": 6,
   "metadata": {},
   "outputs": [],
   "source": [
    "df = pd.DataFrame(df, columns=['MPG', 'Acceleration'])"
   ]
  },
  {
   "cell_type": "code",
   "execution_count": 7,
   "metadata": {},
   "outputs": [
    {
     "data": {
      "text/html": [
       "<div>\n",
       "<style scoped>\n",
       "    .dataframe tbody tr th:only-of-type {\n",
       "        vertical-align: middle;\n",
       "    }\n",
       "\n",
       "    .dataframe tbody tr th {\n",
       "        vertical-align: top;\n",
       "    }\n",
       "\n",
       "    .dataframe thead th {\n",
       "        text-align: right;\n",
       "    }\n",
       "</style>\n",
       "<table border=\"1\" class=\"dataframe\">\n",
       "  <thead>\n",
       "    <tr style=\"text-align: right;\">\n",
       "      <th></th>\n",
       "      <th>MPG</th>\n",
       "      <th>Acceleration</th>\n",
       "    </tr>\n",
       "  </thead>\n",
       "  <tbody>\n",
       "    <tr>\n",
       "      <th>0</th>\n",
       "      <td>8.0</td>\n",
       "      <td>12.0</td>\n",
       "    </tr>\n",
       "    <tr>\n",
       "      <th>1</th>\n",
       "      <td>15.0</td>\n",
       "      <td>11.5</td>\n",
       "    </tr>\n",
       "    <tr>\n",
       "      <th>2</th>\n",
       "      <td>18.0</td>\n",
       "      <td>11.0</td>\n",
       "    </tr>\n",
       "    <tr>\n",
       "      <th>3</th>\n",
       "      <td>16.0</td>\n",
       "      <td>12.0</td>\n",
       "    </tr>\n",
       "    <tr>\n",
       "      <th>4</th>\n",
       "      <td>17.0</td>\n",
       "      <td>10.5</td>\n",
       "    </tr>\n",
       "  </tbody>\n",
       "</table>\n",
       "</div>"
      ],
      "text/plain": [
       "    MPG  Acceleration\n",
       "0   8.0          12.0\n",
       "1  15.0          11.5\n",
       "2  18.0          11.0\n",
       "3  16.0          12.0\n",
       "4  17.0          10.5"
      ]
     },
     "execution_count": 7,
     "metadata": {},
     "output_type": "execute_result"
    }
   ],
   "source": [
    "df.head()"
   ]
  },
  {
   "cell_type": "code",
   "execution_count": 8,
   "metadata": {},
   "outputs": [],
   "source": [
    "x=np.array(df.drop(['MPG'],1))"
   ]
  },
  {
   "cell_type": "code",
   "execution_count": 9,
   "metadata": {},
   "outputs": [
    {
     "data": {
      "text/plain": [
       "array([[12. ],\n",
       "       [11.5],\n",
       "       [11. ],\n",
       "       [12. ],\n",
       "       [10.5],\n",
       "       [10. ],\n",
       "       [ 9. ],\n",
       "       [ 8.5],\n",
       "       [10. ],\n",
       "       [ 8.5],\n",
       "       [10. ],\n",
       "       [ 8. ],\n",
       "       [ 9.5],\n",
       "       [10. ],\n",
       "       [15. ],\n",
       "       [15.5],\n",
       "       [15.5],\n",
       "       [16. ],\n",
       "       [14.5],\n",
       "       [20.5],\n",
       "       [17.5],\n",
       "       [14.5],\n",
       "       [17.5],\n",
       "       [12.5],\n",
       "       [15. ],\n",
       "       [14. ],\n",
       "       [15. ],\n",
       "       [13.5],\n",
       "       [18.5],\n",
       "       [14.5],\n",
       "       [15.5],\n",
       "       [14. ],\n",
       "       [19. ],\n",
       "       [13. ],\n",
       "       [15.5],\n",
       "       [15.5],\n",
       "       [15.5],\n",
       "       [15.5],\n",
       "       [12. ],\n",
       "       [11.5],\n",
       "       [13.5],\n",
       "       [13. ],\n",
       "       [11.5],\n",
       "       [12. ],\n",
       "       [12. ],\n",
       "       [13.5],\n",
       "       [19. ],\n",
       "       [15. ],\n",
       "       [14.5],\n",
       "       [14. ],\n",
       "       [14. ],\n",
       "       [19.5],\n",
       "       [14.5],\n",
       "       [19. ],\n",
       "       [18. ],\n",
       "       [19. ],\n",
       "       [20.5],\n",
       "       [15.5],\n",
       "       [17. ],\n",
       "       [23.5],\n",
       "       [19.5],\n",
       "       [16.5],\n",
       "       [12. ],\n",
       "       [12. ],\n",
       "       [13.5],\n",
       "       [13. ],\n",
       "       [11.5],\n",
       "       [11. ],\n",
       "       [13.5],\n",
       "       [13.5],\n",
       "       [12.5],\n",
       "       [13.5],\n",
       "       [12.5],\n",
       "       [14. ],\n",
       "       [16. ],\n",
       "       [14. ],\n",
       "       [14.5],\n",
       "       [18. ],\n",
       "       [19.5],\n",
       "       [18. ],\n",
       "       [16. ],\n",
       "       [17. ],\n",
       "       [14.5],\n",
       "       [15. ],\n",
       "       [16.5],\n",
       "       [13. ],\n",
       "       [11.5],\n",
       "       [13. ],\n",
       "       [14.5],\n",
       "       [12.5],\n",
       "       [11.5],\n",
       "       [12. ],\n",
       "       [13. ],\n",
       "       [14.5],\n",
       "       [11. ],\n",
       "       [11. ],\n",
       "       [11. ],\n",
       "       [16.5],\n",
       "       [18. ],\n",
       "       [16. ],\n",
       "       [16.5],\n",
       "       [16. ],\n",
       "       [21. ],\n",
       "       [14. ],\n",
       "       [12.5],\n",
       "       [13. ],\n",
       "       [12.5],\n",
       "       [15. ],\n",
       "       [19. ],\n",
       "       [19.5],\n",
       "       [16.5],\n",
       "       [13.5],\n",
       "       [18.5],\n",
       "       [14. ],\n",
       "       [15.5],\n",
       "       [13. ],\n",
       "       [ 9.5],\n",
       "       [19.5],\n",
       "       [15.5],\n",
       "       [14. ],\n",
       "       [15.5],\n",
       "       [11. ],\n",
       "       [14. ],\n",
       "       [13.5],\n",
       "       [11. ],\n",
       "       [16.5],\n",
       "       [17. ],\n",
       "       [16. ],\n",
       "       [17. ],\n",
       "       [19. ],\n",
       "       [16.5],\n",
       "       [21. ],\n",
       "       [17. ],\n",
       "       [17. ],\n",
       "       [18. ],\n",
       "       [16.5],\n",
       "       [14. ],\n",
       "       [14.5],\n",
       "       [13.5],\n",
       "       [16. ],\n",
       "       [15.5],\n",
       "       [16.5],\n",
       "       [15.5],\n",
       "       [14.5],\n",
       "       [16.5],\n",
       "       [19. ],\n",
       "       [14.5],\n",
       "       [15.5],\n",
       "       [14. ],\n",
       "       [15. ],\n",
       "       [15.5],\n",
       "       [16. ],\n",
       "       [16. ],\n",
       "       [16. ],\n",
       "       [21. ],\n",
       "       [19.5],\n",
       "       [11.5],\n",
       "       [14. ],\n",
       "       [14.5],\n",
       "       [13.5],\n",
       "       [21. ],\n",
       "       [18.5],\n",
       "       [19. ],\n",
       "       [19. ],\n",
       "       [15. ],\n",
       "       [13.5],\n",
       "       [12. ],\n",
       "       [16. ],\n",
       "       [17. ],\n",
       "       [16. ],\n",
       "       [18.5],\n",
       "       [13.5],\n",
       "       [16.5],\n",
       "       [17. ],\n",
       "       [14.5],\n",
       "       [14. ],\n",
       "       [17. ],\n",
       "       [15. ],\n",
       "       [17. ],\n",
       "       [14.5],\n",
       "       [13.5],\n",
       "       [17.5],\n",
       "       [15.5],\n",
       "       [16.9],\n",
       "       [14.9],\n",
       "       [17.7],\n",
       "       [15.3],\n",
       "       [13. ],\n",
       "       [13. ],\n",
       "       [13.9],\n",
       "       [12.8],\n",
       "       [15.4],\n",
       "       [14.5],\n",
       "       [17.6],\n",
       "       [17.6],\n",
       "       [22.2],\n",
       "       [22.1],\n",
       "       [14.2],\n",
       "       [17.4],\n",
       "       [17.7],\n",
       "       [21. ],\n",
       "       [16.2],\n",
       "       [17.8],\n",
       "       [12.2],\n",
       "       [17. ],\n",
       "       [16.4],\n",
       "       [13.6],\n",
       "       [15.7],\n",
       "       [13.2],\n",
       "       [21.9],\n",
       "       [15.5],\n",
       "       [16.7],\n",
       "       [12.1],\n",
       "       [12. ],\n",
       "       [15. ],\n",
       "       [14. ],\n",
       "       [18.5],\n",
       "       [14.8],\n",
       "       [18.6],\n",
       "       [15.5],\n",
       "       [16.8],\n",
       "       [12.5],\n",
       "       [19. ],\n",
       "       [13.7],\n",
       "       [14.9],\n",
       "       [16.4],\n",
       "       [16.9],\n",
       "       [17.7],\n",
       "       [19. ],\n",
       "       [11.1],\n",
       "       [11.4],\n",
       "       [12.2],\n",
       "       [14.5],\n",
       "       [14.5],\n",
       "       [16. ],\n",
       "       [18.2],\n",
       "       [15.8],\n",
       "       [17. ],\n",
       "       [15.9],\n",
       "       [16.4],\n",
       "       [14.1],\n",
       "       [14.5],\n",
       "       [12.8],\n",
       "       [13.5],\n",
       "       [21.5],\n",
       "       [14.4],\n",
       "       [19.4],\n",
       "       [18.6],\n",
       "       [16.4],\n",
       "       [15.5],\n",
       "       [13.2],\n",
       "       [12.8],\n",
       "       [19.2],\n",
       "       [18.2],\n",
       "       [15.8],\n",
       "       [15.4],\n",
       "       [17.2],\n",
       "       [17.2],\n",
       "       [15.8],\n",
       "       [16.7],\n",
       "       [18.7],\n",
       "       [15.1],\n",
       "       [13.2],\n",
       "       [13.4],\n",
       "       [11.2],\n",
       "       [13.7],\n",
       "       [16.5],\n",
       "       [14.2],\n",
       "       [14.7],\n",
       "       [14.5],\n",
       "       [14.8],\n",
       "       [16.7],\n",
       "       [17.6],\n",
       "       [14.9],\n",
       "       [15.9],\n",
       "       [13.6],\n",
       "       [15.7],\n",
       "       [15.8],\n",
       "       [14.9],\n",
       "       [16.6],\n",
       "       [15.4],\n",
       "       [18.2],\n",
       "       [17.3],\n",
       "       [18.2],\n",
       "       [16.6],\n",
       "       [15.4],\n",
       "       [13.4],\n",
       "       [13.2],\n",
       "       [15.2],\n",
       "       [14.9],\n",
       "       [14.3],\n",
       "       [15. ],\n",
       "       [13. ],\n",
       "       [14. ],\n",
       "       [15.2],\n",
       "       [14.4],\n",
       "       [15. ],\n",
       "       [20.1],\n",
       "       [17.4],\n",
       "       [24.8],\n",
       "       [22.2],\n",
       "       [13.2],\n",
       "       [14.9],\n",
       "       [19.2],\n",
       "       [14.7],\n",
       "       [16. ],\n",
       "       [11.3],\n",
       "       [12.9],\n",
       "       [13.2],\n",
       "       [14.7],\n",
       "       [18.8],\n",
       "       [15.5],\n",
       "       [16.4],\n",
       "       [16.5],\n",
       "       [18.1],\n",
       "       [20.1],\n",
       "       [18.7],\n",
       "       [15.8],\n",
       "       [15.5],\n",
       "       [17.5],\n",
       "       [15. ],\n",
       "       [15.2],\n",
       "       [17.9],\n",
       "       [14.4],\n",
       "       [19.2],\n",
       "       [21.7],\n",
       "       [23.7],\n",
       "       [19.9],\n",
       "       [21.8],\n",
       "       [13.8],\n",
       "       [17.3],\n",
       "       [18. ],\n",
       "       [15.3],\n",
       "       [11.4],\n",
       "       [12.5],\n",
       "       [15.1],\n",
       "       [14.3],\n",
       "       [17. ],\n",
       "       [15.7],\n",
       "       [16.4],\n",
       "       [14.4],\n",
       "       [12.6],\n",
       "       [12.9],\n",
       "       [16.9],\n",
       "       [16.4],\n",
       "       [16.1],\n",
       "       [17.8],\n",
       "       [19.4],\n",
       "       [17.3],\n",
       "       [16. ],\n",
       "       [14.9],\n",
       "       [16.2],\n",
       "       [20.7],\n",
       "       [14.2],\n",
       "       [15.8],\n",
       "       [14.4],\n",
       "       [16.8],\n",
       "       [14.8],\n",
       "       [18.3],\n",
       "       [20.4],\n",
       "       [19.6],\n",
       "       [12.6],\n",
       "       [13.8],\n",
       "       [15.8],\n",
       "       [19. ],\n",
       "       [17.1],\n",
       "       [16.6],\n",
       "       [19.6],\n",
       "       [18.6],\n",
       "       [18. ],\n",
       "       [16.2],\n",
       "       [16. ],\n",
       "       [18. ],\n",
       "       [16.4],\n",
       "       [20.5],\n",
       "       [15.3],\n",
       "       [18.2],\n",
       "       [17.6],\n",
       "       [14.7],\n",
       "       [17.3],\n",
       "       [14.5],\n",
       "       [14.5],\n",
       "       [16.9],\n",
       "       [15. ],\n",
       "       [15.7],\n",
       "       [16.2],\n",
       "       [16.4],\n",
       "       [17. ],\n",
       "       [14.5],\n",
       "       [14.7],\n",
       "       [13.9],\n",
       "       [13. ],\n",
       "       [17.3],\n",
       "       [15.6],\n",
       "       [24.6],\n",
       "       [11.6],\n",
       "       [18.6],\n",
       "       [19.4]])"
      ]
     },
     "execution_count": 9,
     "metadata": {},
     "output_type": "execute_result"
    }
   ],
   "source": [
    "x"
   ]
  },
  {
   "cell_type": "code",
   "execution_count": 10,
   "metadata": {},
   "outputs": [],
   "source": [
    "y=np.array(df['MPG'])"
   ]
  },
  {
   "cell_type": "code",
   "execution_count": 11,
   "metadata": {},
   "outputs": [
    {
     "data": {
      "text/plain": [
       "array([ 8. , 15. , 18. , 16. , 17. , 15. , 14. , 14. , 14. , 15. , 15. ,\n",
       "       14. , 15. , 14. , 24. , 22. , 18. , 21. , 27. , 26. , 25. , 24. ,\n",
       "       25. , 26. , 21. , 10. , 10. , 11. ,  9. , 27. , 28. , 25. , 25. ,\n",
       "       19. , 16. , 17. , 19. , 18. , 14. , 14. , 14. , 14. , 12. , 13. ,\n",
       "       13. , 18. , 22. , 19. , 18. , 23. , 28. , 30. , 30. , 31. , 35. ,\n",
       "       27. , 26. , 24. , 25. , 23. , 20. , 21. , 13. , 14. , 15. , 14. ,\n",
       "       17. , 11. , 13. , 12. , 13. , 19. , 15. , 13. , 13. , 14. , 18. ,\n",
       "       22. , 21. , 26. , 22. , 28. , 23. , 28. , 27. , 13. , 14. , 13. ,\n",
       "       14. , 15. , 12. , 13. , 13. , 14. , 13. , 12. , 13. , 18. , 16. ,\n",
       "       18. , 18. , 23. , 26. , 11. , 12. , 13. , 12. , 18. , 20. , 21. ,\n",
       "       22. , 18. , 19. , 21. , 26. , 15. , 16. , 29. , 24. , 20. , 19. ,\n",
       "       15. , 24. , 20. , 11. , 20. , 21. , 19. , 15. , 31. , 26. , 32. ,\n",
       "       25. , 16. , 16. , 18. , 16. , 13. , 14. , 14. , 14. , 29. , 26. ,\n",
       "       26. , 31. , 32. , 28. , 24. , 26. , 24. , 26. , 31. , 19. , 18. ,\n",
       "       15. , 15. , 16. , 15. , 16. , 14. , 17. , 16. , 15. , 18. , 21. ,\n",
       "       20. , 13. , 29. , 23. , 20. , 23. , 24. , 25. , 24. , 18. , 29. ,\n",
       "       19. , 23. , 23. , 22. , 25. , 33. , 28. , 25. , 25. , 26. , 27. ,\n",
       "       17.5, 16. , 15.5, 14.5, 22. , 22. , 24. , 22.5, 29. , 24.5, 29. ,\n",
       "       33. , 20. , 18. , 18.5, 17.5, 29.5, 32. , 28. , 26.5, 20. , 13. ,\n",
       "       19. , 19. , 16.5, 16.5, 13. , 13. , 13. , 31.5, 30. , 36. , 25.5,\n",
       "       33.5, 17.5, 17. , 15.5, 15. , 17.5, 20.5, 19. , 18.5, 16. , 15.5,\n",
       "       15.5, 16. , 29. , 24.5, 26. , 25.5, 30.5, 33.5, 30. , 30.5, 22. ,\n",
       "       21.5, 21.5, 43.1, 36.1, 32.8, 39.4, 36.1, 19.9, 19.4, 20.2, 19.2,\n",
       "       20.5, 20.2, 25.1, 20.5, 19.4, 20.6, 20.8, 18.6, 18.1, 19.2, 17.7,\n",
       "       18.1, 17.5, 30. , 27.5, 27.2, 30.9, 21.1, 23.2, 23.8, 23.9, 20.3,\n",
       "       17. , 21.6, 16.2, 31.5, 29.5, 21.5, 19.8, 22.3, 20.2, 20.6, 17. ,\n",
       "       17.6, 16.5, 18.2, 16.9, 15.5, 19.2, 18.5, 31.9, 34.1, 35.7, 27.4,\n",
       "       25.4, 23. , 27.2, 23.9, 34.2, 34.5, 31.8, 37.3, 28.4, 28.8, 26.8,\n",
       "       33.5, 41.5, 38.1, 32.1, 37.2, 28. , 26.4, 24.3, 19.1, 34.3, 29.8,\n",
       "       31.3, 37. , 32.2, 46.6, 27.9, 40.8, 44.3, 43.4, 36.4, 30. , 44.6,\n",
       "       40.9, 33.8, 29.8, 32.7, 23.7, 35. , 23.6, 32.4, 27.2, 26.6, 25.8,\n",
       "       23.5, 30. , 39.1, 39. , 35.1, 32.3, 37. , 37.7, 34.1, 34.7, 34.4,\n",
       "       29.9, 33. , 34.5, 33.7, 32.4, 32.9, 31.6, 28.1, 30.7, 25.4, 24.2,\n",
       "       22.4, 26.6, 20.2, 17.6, 28. , 27. , 34. , 31. , 29. , 27. , 24. ,\n",
       "       23. , 36. , 37. , 31. , 38. , 36. , 36. , 36. , 34. , 38. , 32. ,\n",
       "       38. , 25. , 38. , 26. , 22. , 32. , 36. , 27. , 27. , 44. , 32. ,\n",
       "       28. , 31. ])"
      ]
     },
     "execution_count": 11,
     "metadata": {},
     "output_type": "execute_result"
    }
   ],
   "source": [
    "y"
   ]
  },
  {
   "cell_type": "code",
   "execution_count": 12,
   "metadata": {},
   "outputs": [
    {
     "name": "stderr",
     "output_type": "stream",
     "text": [
      "C:\\ProgramData\\Anaconda3\\lib\\site-packages\\sklearn\\cross_validation.py:41: DeprecationWarning: This module was deprecated in version 0.18 in favor of the model_selection module into which all the refactored classes and functions are moved. Also note that the interface of the new CV iterators are different from that of this module. This module will be removed in 0.20.\n",
      "  \"This module will be removed in 0.20.\", DeprecationWarning)\n"
     ]
    }
   ],
   "source": [
    "from sklearn.cross_validation import train_test_split\n",
    "x_train, x_test, y_train, y_test=train_test_split(x,y, test_size=0.2)"
   ]
  },
  {
   "cell_type": "code",
   "execution_count": 13,
   "metadata": {},
   "outputs": [
    {
     "name": "stdout",
     "output_type": "stream",
     "text": [
      "(318, 1)\n"
     ]
    }
   ],
   "source": [
    "print(x_train.shape)"
   ]
  },
  {
   "cell_type": "code",
   "execution_count": 14,
   "metadata": {},
   "outputs": [
    {
     "name": "stdout",
     "output_type": "stream",
     "text": [
      "(318,)\n"
     ]
    }
   ],
   "source": [
    "print(y_train.shape)"
   ]
  },
  {
   "cell_type": "code",
   "execution_count": 15,
   "metadata": {},
   "outputs": [
    {
     "data": {
      "text/plain": [
       "array([17.5, 14. , 32. , 18. , 32.9, 32. , 33.7, 44.3, 23. , 29. , 28.4,\n",
       "       44. , 16.2, 27.2, 21.6, 27. , 21. , 25. , 17. , 26. , 14. , 29. ,\n",
       "       27. , 31. , 13. , 18. , 16. , 14. , 28. , 18. , 13. , 30. , 36. ,\n",
       "       19. , 30. , 38. , 24. , 38. , 37. , 15. , 30. , 26. , 15. , 20. ,\n",
       "       28. , 36. , 43.4, 29.5, 36. , 34. , 25. , 10. , 26. , 37.7, 11. ,\n",
       "       29. , 16. , 31.3, 17. , 20. , 20.5, 14. , 29. , 27. , 23.6, 16. ,\n",
       "       24. , 25. , 19. , 14. , 13. , 34.2, 13. , 27. , 16.9, 25. , 18. ,\n",
       "       15. , 24. , 19.2])"
      ]
     },
     "execution_count": 15,
     "metadata": {},
     "output_type": "execute_result"
    }
   ],
   "source": [
    "y_test"
   ]
  },
  {
   "cell_type": "code",
   "execution_count": 16,
   "metadata": {},
   "outputs": [
    {
     "data": {
      "text/plain": [
       "LinearRegression(copy_X=True, fit_intercept=True, n_jobs=1, normalize=False)"
      ]
     },
     "execution_count": 16,
     "metadata": {},
     "output_type": "execute_result"
    }
   ],
   "source": [
    "regmodel=linear_model.LinearRegression()\n",
    "regmodel.fit(x_train, y_train)"
   ]
  },
  {
   "cell_type": "code",
   "execution_count": 17,
   "metadata": {},
   "outputs": [
    {
     "data": {
      "text/plain": [
       "array([39.12707433])"
      ]
     },
     "execution_count": 17,
     "metadata": {},
     "output_type": "execute_result"
    }
   ],
   "source": [
    "regmodel.predict(30.0)"
   ]
  },
  {
   "cell_type": "code",
   "execution_count": 18,
   "metadata": {},
   "outputs": [
    {
     "data": {
      "text/plain": [
       "array([1.10185901])"
      ]
     },
     "execution_count": 18,
     "metadata": {},
     "output_type": "execute_result"
    }
   ],
   "source": [
    "regmodel.coef_"
   ]
  },
  {
   "cell_type": "code",
   "execution_count": 19,
   "metadata": {},
   "outputs": [
    {
     "data": {
      "text/plain": [
       "6.071304163042321"
      ]
     },
     "execution_count": 19,
     "metadata": {},
     "output_type": "execute_result"
    }
   ],
   "source": [
    "regmodel.intercept_"
   ]
  },
  {
   "cell_type": "code",
   "execution_count": 20,
   "metadata": {},
   "outputs": [
    {
     "data": {
      "text/plain": [
       "0.22811229301176408"
      ]
     },
     "execution_count": 20,
     "metadata": {},
     "output_type": "execute_result"
    }
   ],
   "source": [
    "regmodel.score(x_test, y_test)"
   ]
  },
  {
   "cell_type": "code",
   "execution_count": 21,
   "metadata": {},
   "outputs": [],
   "source": [
    "y_pred = regmodel.predict(x_test)"
   ]
  },
  {
   "cell_type": "code",
   "execution_count": 22,
   "metadata": {},
   "outputs": [
    {
     "data": {
      "text/plain": [
       "array([20.39547123, 19.29361223, 18.85286863, 20.94640074, 22.37881744,\n",
       "       23.37049055, 21.93807384, 29.98164458, 22.59918925, 21.49733024,\n",
       "       23.70104825, 33.1770357 , 23.48067645, 23.37049055, 23.37049055,\n",
       "       22.04825974, 22.59918925, 24.14179185, 18.74268273, 24.25197775,\n",
       "       22.04825974, 27.55755477, 22.04825974, 27.44736887, 19.29361223,\n",
       "       23.15011875, 18.30193912, 20.94640074, 24.14179185, 27.00662527,\n",
       "       22.59918925, 20.28528533, 22.92974695, 23.15011875, 24.14179185,\n",
       "       22.26863154, 24.80290726, 22.59918925, 22.59918925, 20.94640074,\n",
       "       22.04825974, 25.57420856, 21.49733024, 27.00662527, 24.80290726,\n",
       "       26.56588167, 32.18536259, 19.51398403, 22.04825974, 25.90476626,\n",
       "       27.00662527, 21.49733024, 28.65941378, 25.13346496, 18.19175322,\n",
       "       23.70104825, 19.29361223, 25.35383676, 23.15011875, 20.94640074,\n",
       "       24.69272136, 23.15011875, 24.25197775, 25.90476626, 21.82788794,\n",
       "       25.90476626, 20.94640074, 24.25197775, 20.94640074, 15.43710571,\n",
       "       19.29361223, 20.61584304, 20.39547123, 26.56588167, 22.48900334,\n",
       "       25.35383676, 24.25197775, 20.39547123, 23.15011875, 22.59918925])"
      ]
     },
     "execution_count": 22,
     "metadata": {},
     "output_type": "execute_result"
    }
   ],
   "source": [
    "y_pred"
   ]
  },
  {
   "cell_type": "code",
   "execution_count": 23,
   "metadata": {
    "scrolled": true
   },
   "outputs": [
    {
     "data": {
      "image/png": "[encoded data removed]",
      "text/plain": [
       "<matplotlib.figure.Figure at 0x25a4743f6a0>"
      ]
     },
     "metadata": {},
     "output_type": "display_data"
    }
   ],
   "source": [
    "plt.scatter(x_test, y_test,  color='green')\n",
    "plt.plot(x_test, y_pred, color='red', linewidth=3)\n",
    "plt.show()"
   ]
  },
  {
   "cell_type": "code",
   "execution_count": 24,
   "metadata": {
    "scrolled": true
   },
   "outputs": [
    {
     "name": "stdout",
     "output_type": "stream",
     "text": [
      "[17.5 14.  32.  18.  32.9 32.  33.7 44.3 23.  29.  28.4 44.  16.2 27.2\n",
      " 21.6 27.  21.  25.  17.  26.  14.  29.  27.  31.  13.  18.  16.  14.\n",
      " 28.  18.  13.  30.  36.  19.  30.  38.  24.  38.  37.  15.  30.  26.\n",
      " 15.  20.  28.  36.  43.4 29.5 36.  34.  25.  10.  26.  37.7 11.  29.\n",
      " 16.  31.3 17.  20.  20.5 14.  29.  27.  23.6 16.  24.  25.  19.  14.\n",
      " 13.  34.2 13.  27.  16.9 25.  18.  15.  24.  19.2]\n"
     ]
    }
   ],
   "source": [
    "print(y_test)"
   ]
  },
  {
   "cell_type": "code",
   "execution_count": 25,
   "metadata": {},
   "outputs": [
    {
     "name": "stdout",
     "output_type": "stream",
     "text": [
      "[[13. ]\n",
      " [12. ]\n",
      " [11.6]\n",
      " [13.5]\n",
      " [14.8]\n",
      " [15.7]\n",
      " [14.4]\n",
      " [21.7]\n",
      " [15. ]\n",
      " [14. ]\n",
      " [16. ]\n",
      " [24.6]\n",
      " [15.8]\n",
      " [15.7]\n",
      " [15.7]\n",
      " [14.5]\n",
      " [15. ]\n",
      " [16.4]\n",
      " [11.5]\n",
      " [16.5]\n",
      " [14.5]\n",
      " [19.5]\n",
      " [14.5]\n",
      " [19.4]\n",
      " [12. ]\n",
      " [15.5]\n",
      " [11.1]\n",
      " [13.5]\n",
      " [16.4]\n",
      " [19. ]\n",
      " [15. ]\n",
      " [12.9]\n",
      " [15.3]\n",
      " [15.5]\n",
      " [16.4]\n",
      " [14.7]\n",
      " [17. ]\n",
      " [15. ]\n",
      " [15. ]\n",
      " [13.5]\n",
      " [14.5]\n",
      " [17.7]\n",
      " [14. ]\n",
      " [19. ]\n",
      " [17. ]\n",
      " [18.6]\n",
      " [23.7]\n",
      " [12.2]\n",
      " [14.5]\n",
      " [18. ]\n",
      " [19. ]\n",
      " [14. ]\n",
      " [20.5]\n",
      " [17.3]\n",
      " [11. ]\n",
      " [16. ]\n",
      " [12. ]\n",
      " [17.5]\n",
      " [15.5]\n",
      " [13.5]\n",
      " [16.9]\n",
      " [15.5]\n",
      " [16.5]\n",
      " [18. ]\n",
      " [14.3]\n",
      " [18. ]\n",
      " [13.5]\n",
      " [16.5]\n",
      " [13.5]\n",
      " [ 8.5]\n",
      " [12. ]\n",
      " [13.2]\n",
      " [13. ]\n",
      " [18.6]\n",
      " [14.9]\n",
      " [17.5]\n",
      " [16.5]\n",
      " [13. ]\n",
      " [15.5]\n",
      " [15. ]]\n"
     ]
    }
   ],
   "source": [
    "print(x_test)"
   ]
  },
  {
   "cell_type": "code",
   "execution_count": 29,
   "metadata": {},
   "outputs": [],
   "source": [
    "#gradient function\n",
    "A = np.array([y_test])"
   ]
  },
  {
   "cell_type": "code",
   "execution_count": 33,
   "metadata": {},
   "outputs": [],
   "source": [
    "#np.gradient(A,2)\n",
    "def residual_error(m,c,points):\n",
    "    rss=0\n",
    "    for i in range(0,len(points)):\n",
    "        x = points[i,2]\n",
    "        y = points[i,1]\n",
    "        rss +=(y-(m*x+c))**2\n",
    "        return rss/float(len(points))"
   ]
  },
  {
   "cell_type": "code",
   "execution_count": null,
   "metadata": {},
   "outputs": [],
   "source": [
    "##"
   ]
  },
  {
   "cell_type": "code",
   "execution_count": 56,
   "metadata": {},
   "outputs": [],
   "source": [
    "#gradient function\n",
    "# The algorithm starts at x=13\n",
    "cur_x = 13 \n",
    "rate = 0.01 # Learning rate\n",
    "#This tells us when to stop the algorithm\n",
    "precision = 0.000001 \n",
    "last_step = 1 #\n",
    "# maximum number of iterations\n",
    "max_iters = 6.071304163042321 \n",
    "iters = 0 #iteration counter\n",
    "#Gradient of function \n",
    "df = lambda x: 2*(13+2) "
   ]
  },
  {
   "cell_type": "code",
   "execution_count": 57,
   "metadata": {},
   "outputs": [
    {
     "name": "stdout",
     "output_type": "stream",
     "text": [
      "Iteration 1 \n",
      "X value is 12.7\n",
      "Iteration 2 \n",
      "X value is 12.399999999999999\n",
      "Iteration 3 \n",
      "X value is 12.099999999999998\n",
      "Iteration 4 \n",
      "X value is 11.799999999999997\n",
      "Iteration 5 \n",
      "X value is 11.499999999999996\n",
      "Iteration 6 \n",
      "X value is 11.199999999999996\n",
      "Iteration 7 \n",
      "X value is 10.899999999999995\n",
      "The local minimum occurs at 10.899999999999995\n"
     ]
    }
   ],
   "source": [
    "while last_step > precision and iters < max_iters:\n",
    "    prev_x = cur_x #Store current x value in prev_x\n",
    "    cur_x = cur_x - rate * df(prev_x) #Grad descent\n",
    "    last_step = abs(cur_x - prev_x) #Change in x\n",
    "    iters = iters+1 #iteration count\n",
    "    print(\"Iteration\",iters,\"\\nX value is\",cur_x) #Print iterations\n",
    "    \n",
    "print(\"The local minimum occurs at\", cur_x)"
   ]
  },
  {
   "cell_type": "code",
   "execution_count": null,
   "metadata": {},
   "outputs": [],
   "source": []
  },
  {
   "cell_type": "code",
   "execution_count": null,
   "metadata": {},
   "outputs": [],
   "source": []
  }
 ],
 "metadata": {
  "kernelspec": {
   "display_name": "Python 3",
   "language": "python",
   "name": "python3"
  },
  "language_info": {
   "codemirror_mode": {
    "name": "ipython",
    "version": 3
   },
   "file_extension": ".py",
   "mimetype": "text/x-python",
   "name": "python",
   "nbconvert_exporter": "python",
   "pygments_lexer": "ipython3",
   "version": "3.6.4"
  }
 },
 "nbformat": 4,
 "nbformat_minor": 2
}
