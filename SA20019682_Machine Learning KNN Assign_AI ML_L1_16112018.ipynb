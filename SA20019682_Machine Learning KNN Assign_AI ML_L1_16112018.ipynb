{
 "cells": [
  {
   "cell_type": "code",
   "execution_count": 55,
   "metadata": {},
   "outputs": [],
   "source": [
    "#Import relevant python libraries and sklearn KNN model  \n",
    "import pandas as pd\n",
    "import numpy as np\n",
    "from sklearn import cross_validation, neighbors # for KNN\n",
    "from sklearn import linear_model # For KNN\n",
    "from sklearn.linear_model import LinearRegression # for predict the model"
   ]
  },
  {
   "cell_type": "code",
   "execution_count": 56,
   "metadata": {},
   "outputs": [],
   "source": [
    "#Read the data base\n",
    "data = pd.read_csv('E:/ML/AI ML docs/Haberman.csv')"
   ]
  },
  {
   "cell_type": "code",
   "execution_count": 57,
   "metadata": {},
   "outputs": [
    {
     "data": {
      "text/html": [
       "<div>\n",
       "<style scoped>\n",
       "    .dataframe tbody tr th:only-of-type {\n",
       "        vertical-align: middle;\n",
       "    }\n",
       "\n",
       "    .dataframe tbody tr th {\n",
       "        vertical-align: top;\n",
       "    }\n",
       "\n",
       "    .dataframe thead th {\n",
       "        text-align: right;\n",
       "    }\n",
       "</style>\n",
       "<table border=\"1\" class=\"dataframe\">\n",
       "  <thead>\n",
       "    <tr style=\"text-align: right;\">\n",
       "      <th></th>\n",
       "      <th>Age_patient</th>\n",
       "      <th>Patient's_year</th>\n",
       "      <th>Number_positive</th>\n",
       "      <th>Survival_status</th>\n",
       "    </tr>\n",
       "  </thead>\n",
       "  <tbody>\n",
       "    <tr>\n",
       "      <th>0</th>\n",
       "      <td>30</td>\n",
       "      <td>64</td>\n",
       "      <td>1</td>\n",
       "      <td>1</td>\n",
       "    </tr>\n",
       "    <tr>\n",
       "      <th>1</th>\n",
       "      <td>30</td>\n",
       "      <td>62</td>\n",
       "      <td>3</td>\n",
       "      <td>1</td>\n",
       "    </tr>\n",
       "    <tr>\n",
       "      <th>2</th>\n",
       "      <td>30</td>\n",
       "      <td>65</td>\n",
       "      <td>0</td>\n",
       "      <td>1</td>\n",
       "    </tr>\n",
       "    <tr>\n",
       "      <th>3</th>\n",
       "      <td>31</td>\n",
       "      <td>59</td>\n",
       "      <td>2</td>\n",
       "      <td>1</td>\n",
       "    </tr>\n",
       "    <tr>\n",
       "      <th>4</th>\n",
       "      <td>31</td>\n",
       "      <td>65</td>\n",
       "      <td>4</td>\n",
       "      <td>1</td>\n",
       "    </tr>\n",
       "    <tr>\n",
       "      <th>5</th>\n",
       "      <td>33</td>\n",
       "      <td>58</td>\n",
       "      <td>10</td>\n",
       "      <td>1</td>\n",
       "    </tr>\n",
       "    <tr>\n",
       "      <th>6</th>\n",
       "      <td>33</td>\n",
       "      <td>60</td>\n",
       "      <td>0</td>\n",
       "      <td>1</td>\n",
       "    </tr>\n",
       "    <tr>\n",
       "      <th>7</th>\n",
       "      <td>34</td>\n",
       "      <td>59</td>\n",
       "      <td>0</td>\n",
       "      <td>2</td>\n",
       "    </tr>\n",
       "  </tbody>\n",
       "</table>\n",
       "</div>"
      ],
      "text/plain": [
       "   Age_patient  Patient's_year  Number_positive  Survival_status\n",
       "0           30              64                1                1\n",
       "1           30              62                3                1\n",
       "2           30              65                0                1\n",
       "3           31              59                2                1\n",
       "4           31              65                4                1\n",
       "5           33              58               10                1\n",
       "6           33              60                0                1\n",
       "7           34              59                0                2"
      ]
     },
     "execution_count": 57,
     "metadata": {},
     "output_type": "execute_result"
    }
   ],
   "source": [
    "#Identify target variable and independent variable. 1. Traget variable is Survival_status and other is fetures variable\n",
    "data.head(8)"
   ]
  },
  {
   "cell_type": "code",
   "execution_count": 58,
   "metadata": {},
   "outputs": [],
   "source": [
    "#x = np.array(data.drop(['Patients_year'],1))\n",
    "# Target var is Survaival status\n",
    "y=np.array(data['Survival_status'])"
   ]
  },
  {
   "cell_type": "code",
   "execution_count": 59,
   "metadata": {},
   "outputs": [
    {
     "data": {
      "text/plain": [
       "array([1, 1, 1, 1, 1, 1, 1, 2, 2, 1, 1, 1, 1, 1, 1, 1, 1, 1, 1, 1, 1, 1,\n",
       "       1, 1, 2, 1, 1, 1, 1, 1, 1, 1, 1, 1, 2, 1, 1, 1, 1, 1, 1, 1, 1, 2,\n",
       "       2, 2, 1, 1, 1, 1, 1, 1, 1, 2, 2, 1, 1, 1, 1, 1, 1, 1, 2, 2, 2, 2,\n",
       "       1, 1, 1, 1, 1, 1, 1, 2, 2, 2, 1, 1, 1, 1, 2, 2, 2, 1, 1, 1, 1, 1,\n",
       "       1, 2, 2, 2, 2, 1, 1, 1, 2, 2, 2, 1, 1, 1, 1, 1, 1, 1, 1, 2, 2, 2,\n",
       "       1, 1, 1, 1, 2, 2, 1, 1, 1, 1, 1, 1, 1, 1, 2, 2, 1, 1, 1, 1, 1, 1,\n",
       "       1, 1, 1, 1, 2, 2, 1, 1, 1, 1, 2, 2, 2, 2, 1, 1, 1, 1, 1, 1, 1, 1,\n",
       "       1, 1, 2, 2, 2, 2, 2, 2, 1, 1, 1, 1, 1, 2, 2, 2, 2, 1, 1, 1, 1, 1,\n",
       "       1, 1, 1, 1, 2, 2, 1, 1, 1, 1, 1, 1, 1, 1, 2, 2, 1, 1, 1, 1, 1, 2,\n",
       "       2, 2, 1, 1, 1, 1, 1, 1, 1, 1, 1, 1, 1, 1, 1, 1, 1, 2, 1, 1, 1, 1,\n",
       "       1, 1, 1, 2, 2, 1, 1, 1, 1, 2, 2, 2, 1, 1, 1, 1, 1, 1, 2, 2, 2, 1,\n",
       "       1, 1, 1, 2, 1, 1, 1, 1, 1, 1, 1, 1, 1, 1, 1, 1, 2, 2, 2, 2, 1, 1,\n",
       "       1, 1, 1, 1, 2, 2, 1, 1, 1, 2, 2, 1, 1, 1, 1, 1, 1, 2, 1, 1, 1, 2,\n",
       "       2, 1, 1, 1, 1, 1, 1, 2, 1, 1, 1, 1, 1, 2, 1, 1, 1, 1, 2, 2],\n",
       "      dtype=int64)"
      ]
     },
     "execution_count": 59,
     "metadata": {},
     "output_type": "execute_result"
    }
   ],
   "source": [
    "y"
   ]
  },
  {
   "cell_type": "code",
   "execution_count": 115,
   "metadata": {},
   "outputs": [
    {
     "ename": "AttributeError",
     "evalue": "'LinearRegression' object has no attribute 'drop'",
     "output_type": "error",
     "traceback": [
      "\u001b[1;31m---------------------------------------------------------------------------\u001b[0m",
      "\u001b[1;31mAttributeError\u001b[0m                            Traceback (most recent call last)",
      "\u001b[1;32m<ipython-input-115-4886dcd675e6>\u001b[0m in \u001b[0;36m<module>\u001b[1;34m()\u001b[0m\n\u001b[0;32m      1\u001b[0m \u001b[1;31m# feture variables are Age_patient, Patient's_year,Number_positive\u001b[0m\u001b[1;33m\u001b[0m\u001b[1;33m\u001b[0m\u001b[0m\n\u001b[1;32m----> 2\u001b[1;33m \u001b[0mx\u001b[0m\u001b[1;33m=\u001b[0m\u001b[0mnp\u001b[0m\u001b[1;33m.\u001b[0m\u001b[0marray\u001b[0m\u001b[1;33m(\u001b[0m\u001b[0mdata\u001b[0m\u001b[1;33m.\u001b[0m\u001b[0mdrop\u001b[0m\u001b[1;33m(\u001b[0m\u001b[1;33m[\u001b[0m\u001b[1;34m'Survival_status'\u001b[0m\u001b[1;33m]\u001b[0m\u001b[1;33m,\u001b[0m\u001b[1;36m1\u001b[0m\u001b[1;33m)\u001b[0m\u001b[1;33m)\u001b[0m\u001b[1;33m\u001b[0m\u001b[0m\n\u001b[0m",
      "\u001b[1;31mAttributeError\u001b[0m: 'LinearRegression' object has no attribute 'drop'"
     ]
    }
   ],
   "source": [
    "# feture variables are Age_patient, Patient's_year,Number_positive\n",
    "x=np.array(data.drop(['Survival_status'],1))"
   ]
  },
  {
   "cell_type": "code",
   "execution_count": 116,
   "metadata": {},
   "outputs": [
    {
     "data": {
      "text/plain": [
       "array([[30, 64,  1],\n",
       "       [30, 62,  3],\n",
       "       [30, 65,  0],\n",
       "       [31, 59,  2],\n",
       "       [31, 65,  4],\n",
       "       [33, 58, 10],\n",
       "       [33, 60,  0],\n",
       "       [34, 59,  0],\n",
       "       [34, 66,  9],\n",
       "       [34, 58, 30],\n",
       "       [34, 60,  1],\n",
       "       [34, 61, 10],\n",
       "       [34, 67,  7],\n",
       "       [34, 60,  0],\n",
       "       [35, 64, 13],\n",
       "       [35, 63,  0],\n",
       "       [36, 60,  1],\n",
       "       [36, 69,  0],\n",
       "       [37, 60,  0],\n",
       "       [37, 63,  0],\n",
       "       [37, 58,  0],\n",
       "       [37, 59,  6],\n",
       "       [37, 60, 15],\n",
       "       [37, 63,  0],\n",
       "       [38, 69, 21],\n",
       "       [38, 59,  2],\n",
       "       [38, 60,  0],\n",
       "       [38, 60,  0],\n",
       "       [38, 62,  3],\n",
       "       [38, 64,  1],\n",
       "       [38, 66,  0],\n",
       "       [38, 66, 11],\n",
       "       [38, 60,  1],\n",
       "       [38, 67,  5],\n",
       "       [39, 66,  0],\n",
       "       [39, 63,  0],\n",
       "       [39, 67,  0],\n",
       "       [39, 58,  0],\n",
       "       [39, 59,  2],\n",
       "       [39, 63,  4],\n",
       "       [40, 58,  2],\n",
       "       [40, 58,  0],\n",
       "       [40, 65,  0],\n",
       "       [41, 60, 23],\n",
       "       [41, 64,  0],\n",
       "       [41, 67,  0],\n",
       "       [41, 58,  0],\n",
       "       [41, 59,  8],\n",
       "       [41, 59,  0],\n",
       "       [41, 64,  0],\n",
       "       [41, 69,  8],\n",
       "       [41, 65,  0],\n",
       "       [41, 65,  0],\n",
       "       [42, 69,  1],\n",
       "       [42, 59,  0],\n",
       "       [42, 58,  0],\n",
       "       [42, 60,  1],\n",
       "       [42, 59,  2],\n",
       "       [42, 61,  4],\n",
       "       [42, 62, 20],\n",
       "       [42, 65,  0],\n",
       "       [42, 63,  1],\n",
       "       [43, 58, 52],\n",
       "       [43, 59,  2],\n",
       "       [43, 64,  0],\n",
       "       [43, 64,  0],\n",
       "       [43, 63, 14],\n",
       "       [43, 64,  2],\n",
       "       [43, 64,  3],\n",
       "       [43, 60,  0],\n",
       "       [43, 63,  2],\n",
       "       [43, 65,  0],\n",
       "       [43, 66,  4],\n",
       "       [44, 64,  6],\n",
       "       [44, 58,  9],\n",
       "       [44, 63, 19],\n",
       "       [44, 61,  0],\n",
       "       [44, 63,  1],\n",
       "       [44, 61,  0],\n",
       "       [44, 67, 16],\n",
       "       [45, 65,  6],\n",
       "       [45, 66,  0],\n",
       "       [45, 67,  1],\n",
       "       [45, 60,  0],\n",
       "       [45, 67,  0],\n",
       "       [45, 59, 14],\n",
       "       [45, 64,  0],\n",
       "       [45, 68,  0],\n",
       "       [45, 67,  1],\n",
       "       [46, 58,  2],\n",
       "       [46, 69,  3],\n",
       "       [46, 62,  5],\n",
       "       [46, 65, 20],\n",
       "       [46, 62,  0],\n",
       "       [46, 58,  3],\n",
       "       [46, 63,  0],\n",
       "       [47, 63, 23],\n",
       "       [47, 62,  0],\n",
       "       [47, 65,  0],\n",
       "       [47, 61,  0],\n",
       "       [47, 63,  6],\n",
       "       [47, 66,  0],\n",
       "       [47, 67,  0],\n",
       "       [47, 58,  3],\n",
       "       [47, 60,  4],\n",
       "       [47, 68,  4],\n",
       "       [47, 66, 12],\n",
       "       [48, 58, 11],\n",
       "       [48, 58, 11],\n",
       "       [48, 67,  7],\n",
       "       [48, 61,  8],\n",
       "       [48, 62,  2],\n",
       "       [48, 64,  0],\n",
       "       [48, 66,  0],\n",
       "       [49, 63,  0],\n",
       "       [49, 64, 10],\n",
       "       [49, 61,  1],\n",
       "       [49, 62,  0],\n",
       "       [49, 66,  0],\n",
       "       [49, 60,  1],\n",
       "       [49, 62,  1],\n",
       "       [49, 63,  3],\n",
       "       [49, 61,  0],\n",
       "       [49, 67,  1],\n",
       "       [50, 63, 13],\n",
       "       [50, 64,  0],\n",
       "       [50, 59,  0],\n",
       "       [50, 61,  6],\n",
       "       [50, 61,  0],\n",
       "       [50, 63,  1],\n",
       "       [50, 58,  1],\n",
       "       [50, 59,  2],\n",
       "       [50, 61,  0],\n",
       "       [50, 64,  0],\n",
       "       [50, 65,  4],\n",
       "       [50, 66,  1],\n",
       "       [51, 59, 13],\n",
       "       [51, 59,  3],\n",
       "       [51, 64,  7],\n",
       "       [51, 59,  1],\n",
       "       [51, 65,  0],\n",
       "       [51, 66,  1],\n",
       "       [52, 69,  3],\n",
       "       [52, 59,  2],\n",
       "       [52, 62,  3],\n",
       "       [52, 66,  4],\n",
       "       [52, 61,  0],\n",
       "       [52, 63,  4],\n",
       "       [52, 69,  0],\n",
       "       [52, 60,  4],\n",
       "       [52, 60,  5],\n",
       "       [52, 62,  0],\n",
       "       [52, 62,  1],\n",
       "       [52, 64,  0],\n",
       "       [52, 65,  0],\n",
       "       [52, 68,  0],\n",
       "       [53, 58,  4],\n",
       "       [53, 65,  1],\n",
       "       [53, 59,  3],\n",
       "       [53, 60,  9],\n",
       "       [53, 63, 24],\n",
       "       [53, 65, 12],\n",
       "       [53, 58,  1],\n",
       "       [53, 60,  1],\n",
       "       [53, 60,  2],\n",
       "       [53, 61,  1],\n",
       "       [53, 63,  0],\n",
       "       [54, 60, 11],\n",
       "       [54, 65, 23],\n",
       "       [54, 65,  5],\n",
       "       [54, 68,  7],\n",
       "       [54, 59,  7],\n",
       "       [54, 60,  3],\n",
       "       [54, 66,  0],\n",
       "       [54, 67, 46],\n",
       "       [54, 62,  0],\n",
       "       [54, 69,  7],\n",
       "       [54, 63, 19],\n",
       "       [54, 58,  1],\n",
       "       [54, 62,  0],\n",
       "       [55, 63,  6],\n",
       "       [55, 68, 15],\n",
       "       [55, 58,  1],\n",
       "       [55, 58,  0],\n",
       "       [55, 58,  1],\n",
       "       [55, 66, 18],\n",
       "       [55, 66,  0],\n",
       "       [55, 69,  3],\n",
       "       [55, 69, 22],\n",
       "       [55, 67,  1],\n",
       "       [56, 65,  9],\n",
       "       [56, 66,  3],\n",
       "       [56, 60,  0],\n",
       "       [56, 66,  2],\n",
       "       [56, 66,  1],\n",
       "       [56, 67,  0],\n",
       "       [56, 60,  0],\n",
       "       [57, 61,  5],\n",
       "       [57, 62, 14],\n",
       "       [57, 64,  1],\n",
       "       [57, 64,  9],\n",
       "       [57, 69,  0],\n",
       "       [57, 61,  0],\n",
       "       [57, 62,  0],\n",
       "       [57, 63,  0],\n",
       "       [57, 64,  0],\n",
       "       [57, 64,  0],\n",
       "       [57, 67,  0],\n",
       "       [58, 59,  0],\n",
       "       [58, 60,  3],\n",
       "       [58, 61,  1],\n",
       "       [58, 67,  0],\n",
       "       [58, 58,  0],\n",
       "       [58, 58,  3],\n",
       "       [58, 61,  2],\n",
       "       [59, 62, 35],\n",
       "       [59, 60,  0],\n",
       "       [59, 63,  0],\n",
       "       [59, 64,  1],\n",
       "       [59, 64,  4],\n",
       "       [59, 64,  0],\n",
       "       [59, 64,  7],\n",
       "       [59, 67,  3],\n",
       "       [60, 59, 17],\n",
       "       [60, 65,  0],\n",
       "       [60, 61,  1],\n",
       "       [60, 67,  2],\n",
       "       [60, 61, 25],\n",
       "       [60, 64,  0],\n",
       "       [61, 62,  5],\n",
       "       [61, 65,  0],\n",
       "       [61, 68,  1],\n",
       "       [61, 59,  0],\n",
       "       [61, 59,  0],\n",
       "       [61, 64,  0],\n",
       "       [61, 65,  8],\n",
       "       [61, 68,  0],\n",
       "       [61, 59,  0],\n",
       "       [62, 59, 13],\n",
       "       [62, 58,  0],\n",
       "       [62, 65, 19],\n",
       "       [62, 62,  6],\n",
       "       [62, 66,  0],\n",
       "       [62, 66,  0],\n",
       "       [62, 58,  0],\n",
       "       [63, 60,  1],\n",
       "       [63, 61,  0],\n",
       "       [63, 62,  0],\n",
       "       [63, 63,  0],\n",
       "       [63, 63,  0],\n",
       "       [63, 66,  0],\n",
       "       [63, 61,  9],\n",
       "       [63, 61, 28],\n",
       "       [64, 58,  0],\n",
       "       [64, 65, 22],\n",
       "       [64, 66,  0],\n",
       "       [64, 61,  0],\n",
       "       [64, 68,  0],\n",
       "       [65, 58,  0],\n",
       "       [65, 61,  2],\n",
       "       [65, 62, 22],\n",
       "       [65, 66, 15],\n",
       "       [65, 58,  0],\n",
       "       [65, 64,  0],\n",
       "       [65, 67,  0],\n",
       "       [65, 59,  2],\n",
       "       [65, 64,  0],\n",
       "       [65, 67,  1],\n",
       "       [66, 58,  0],\n",
       "       [66, 61, 13],\n",
       "       [66, 58,  0],\n",
       "       [66, 58,  1],\n",
       "       [66, 68,  0],\n",
       "       [67, 64,  8],\n",
       "       [67, 63,  1],\n",
       "       [67, 66,  0],\n",
       "       [67, 66,  0],\n",
       "       [67, 61,  0],\n",
       "       [67, 65,  0],\n",
       "       [68, 67,  0],\n",
       "       [68, 68,  0],\n",
       "       [69, 67,  8],\n",
       "       [69, 60,  0],\n",
       "       [69, 65,  0],\n",
       "       [69, 66,  0],\n",
       "       [70, 58,  0],\n",
       "       [70, 58,  4],\n",
       "       [70, 66, 14],\n",
       "       [70, 67,  0],\n",
       "       [70, 68,  0],\n",
       "       [70, 59,  8],\n",
       "       [70, 63,  0],\n",
       "       [71, 68,  2],\n",
       "       [72, 63,  0],\n",
       "       [72, 58,  0],\n",
       "       [72, 64,  0],\n",
       "       [72, 67,  3],\n",
       "       [73, 62,  0],\n",
       "       [73, 68,  0],\n",
       "       [74, 65,  3],\n",
       "       [74, 63,  0],\n",
       "       [75, 62,  1],\n",
       "       [76, 67,  0],\n",
       "       [77, 65,  3],\n",
       "       [78, 65,  1],\n",
       "       [83, 58,  2]], dtype=int64)"
      ]
     },
     "execution_count": 116,
     "metadata": {},
     "output_type": "execute_result"
    }
   ],
   "source": [
    "x"
   ]
  },
  {
   "cell_type": "code",
   "execution_count": 117,
   "metadata": {},
   "outputs": [
    {
     "name": "stdout",
     "output_type": "stream",
     "text": [
      "(306, 3) (306,)\n"
     ]
    }
   ],
   "source": [
    "# shape the model\n",
    "print(x.shape,y.shape)"
   ]
  },
  {
   "cell_type": "code",
   "execution_count": 118,
   "metadata": {},
   "outputs": [],
   "source": [
    "#Split the file into train [80%] and test [20%] data \n",
    "x_train, x_test, y_train,y_test = cross_validation.train_test_split(x,y,test_size=0.20)"
   ]
  },
  {
   "cell_type": "code",
   "execution_count": 119,
   "metadata": {},
   "outputs": [],
   "source": [
    "# Apply KNN algorithm \n",
    "KNN = neighbors.KNeighborsClassifier()"
   ]
  },
  {
   "cell_type": "code",
   "execution_count": 122,
   "metadata": {},
   "outputs": [],
   "source": [
    "#data = linear_model.LinearRegression()"
   ]
  },
  {
   "cell_type": "code",
   "execution_count": 123,
   "metadata": {},
   "outputs": [
    {
     "data": {
      "text/plain": [
       "KNeighborsClassifier(algorithm='auto', leaf_size=30, metric='minkowski',\n",
       "           metric_params=None, n_jobs=1, n_neighbors=5, p=2,\n",
       "           weights='uniform')"
      ]
     },
     "execution_count": 123,
     "metadata": {},
     "output_type": "execute_result"
    }
   ],
   "source": [
    "# fit the x and y\n",
    "KNN.fit(x_train,y_train)"
   ]
  },
  {
   "cell_type": "code",
   "execution_count": 124,
   "metadata": {},
   "outputs": [],
   "source": [
    "## Perform Accuracy check on test dataset\n",
    "acc = KNN.score(x_train, y_train)"
   ]
  },
  {
   "cell_type": "code",
   "execution_count": 125,
   "metadata": {},
   "outputs": [
    {
     "data": {
      "text/plain": [
       "0.7909836065573771"
      ]
     },
     "execution_count": 125,
     "metadata": {},
     "output_type": "execute_result"
    }
   ],
   "source": [
    "acc"
   ]
  },
  {
   "cell_type": "code",
   "execution_count": 127,
   "metadata": {},
   "outputs": [],
   "source": [
    "# Predict using test data\n",
    "#x_pred = data.predict(x_train)\n",
    "data=linear_model.LinearRegression()"
   ]
  },
  {
   "cell_type": "code",
   "execution_count": 128,
   "metadata": {},
   "outputs": [
    {
     "data": {
      "text/plain": [
       "LinearRegression(copy_X=True, fit_intercept=True, n_jobs=1, normalize=False)"
      ]
     },
     "execution_count": 128,
     "metadata": {},
     "output_type": "execute_result"
    }
   ],
   "source": [
    "data.fit(x_test, y_test)"
   ]
  },
  {
   "cell_type": "code",
   "execution_count": 129,
   "metadata": {},
   "outputs": [],
   "source": [
    "x_pred = data.predict(x_test)"
   ]
  },
  {
   "cell_type": "code",
   "execution_count": 130,
   "metadata": {},
   "outputs": [
    {
     "data": {
      "text/plain": [
       "array([1.31721207, 1.22626632, 1.75894853, 1.27287763, 1.52727644,\n",
       "       1.40534985, 1.30013754, 1.64342588, 1.30278931, 1.27097762,\n",
       "       1.26025918, 1.43703459, 1.32129326, 1.26885893, 1.27069646,\n",
       "       1.86629615, 1.2730026 , 1.35905292, 1.30261649, 1.34845944,\n",
       "       1.23486607, 1.25384061, 1.26868611, 1.66455036, 1.26234664,\n",
       "       1.48742932, 1.33606165, 1.3085186 , 1.42655144, 1.75916919,\n",
       "       1.29643322, 1.26868611, 1.23059743, 1.28945034, 1.38869806,\n",
       "       1.72097018, 1.30260186, 1.27512129, 1.26652155, 1.30428121,\n",
       "       1.35914664, 1.21159165, 1.8202179 , 1.33612413, 1.4393261 ,\n",
       "       2.55199611, 1.27917124, 1.23277861, 1.25393433, 1.22636004,\n",
       "       1.23069116, 1.27708379, 1.25377813, 1.29401675, 1.30911415,\n",
       "       1.84118618, 1.32314542, 1.41600581, 1.33386386, 1.39492918,\n",
       "       1.25175315, 1.2855732 ])"
      ]
     },
     "execution_count": 130,
     "metadata": {},
     "output_type": "execute_result"
    }
   ],
   "source": [
    "x_pred"
   ]
  },
  {
   "cell_type": "code",
   "execution_count": 131,
   "metadata": {},
   "outputs": [],
   "source": [
    "# Perform Accuracy check on test dataset\n",
    "KNN.fit(x_test, y_test)\n",
    "accuracy = KNN.score(x_test, y_test)"
   ]
  },
  {
   "cell_type": "code",
   "execution_count": 132,
   "metadata": {},
   "outputs": [
    {
     "data": {
      "text/plain": [
       "0.7580645161290323"
      ]
     },
     "execution_count": 132,
     "metadata": {},
     "output_type": "execute_result"
    }
   ],
   "source": [
    "accuracy"
   ]
  },
  {
   "cell_type": "code",
   "execution_count": null,
   "metadata": {},
   "outputs": [],
   "source": []
  }
 ],
 "metadata": {
  "kernelspec": {
   "display_name": "Python 3",
   "language": "python",
   "name": "python3"
  },
  "language_info": {
   "codemirror_mode": {
    "name": "ipython",
    "version": 3
   },
   "file_extension": ".py",
   "mimetype": "text/x-python",
   "name": "python",
   "nbconvert_exporter": "python",
   "pygments_lexer": "ipython3",
   "version": "3.6.4"
  }
 },
 "nbformat": 4,
 "nbformat_minor": 2
}
