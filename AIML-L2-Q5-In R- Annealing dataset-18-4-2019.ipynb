{
 "cells": [
  {
   "cell_type": "code",
   "execution_count": 1,
   "metadata": {},
   "outputs": [],
   "source": [
    "#•\tBusiness Understanding\n",
    "#•\tData Understanding\n",
    "#•\tData Preparation\n",
    "#•\tData Modelling\n",
    "#•\tModel Evaluation\n",
    "#•\tDeployment\n"
   ]
  },
  {
   "cell_type": "markdown",
   "metadata": {},
   "source": [
    "# Data prepration"
   ]
  },
  {
   "cell_type": "code",
   "execution_count": 2,
   "metadata": {},
   "outputs": [],
   "source": [
    "#1.\tImport the data set in R.\n",
    "#2.\tView the dataset\n",
    "#3.\tSee the structure and the summary of the dataset to understand the data.\n",
    "#4.\tFind out the number of:\n",
    "#\t     a.) Numeric attributes:\n",
    "#\t     b.) Categorical attributes:\n"
   ]
  },
  {
   "cell_type": "code",
   "execution_count": null,
   "metadata": {},
   "outputs": [],
   "source": []
  }
 ],
 "metadata": {
  "kernelspec": {
   "display_name": "Python 3",
   "language": "python",
   "name": "python3"
  },
  "language_info": {
   "codemirror_mode": {
    "name": "ipython",
    "version": 3
   },
   "file_extension": ".py",
   "mimetype": "text/x-python",
   "name": "python",
   "nbconvert_exporter": "python",
   "pygments_lexer": "ipython3",
   "version": "3.6.4"
  }
 },
 "nbformat": 4,
 "nbformat_minor": 2
}
